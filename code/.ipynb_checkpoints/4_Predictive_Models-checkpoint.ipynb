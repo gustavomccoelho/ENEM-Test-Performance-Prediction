{
 "cells": [
  {
   "cell_type": "code",
   "execution_count": 1,
   "metadata": {},
   "outputs": [],
   "source": [
    "import pandas as pd\n",
    "import numpy as np\n",
    "from sklearn.model_selection import RandomizedSearchCV\n",
    "import xgboost as xgb\n",
    "from sklearn.ensemble import RandomForestClassifier\n",
    "from sklearn.model_selection import train_test_split\n",
    "from sklearn.metrics import precision_score\n",
    "from sklearn.metrics import recall_score\n",
    "from sklearn.metrics import plot_confusion_matrix\n",
    "import seaborn as sns\n",
    "import matplotlib.pyplot as plt\n",
    "from sklearn.inspection import permutation_importance\n",
    "import time\n",
    "from sklearn import tree\n",
    "from sklearn.tree import DecisionTreeClassifier"
   ]
  },
  {
   "cell_type": "markdown",
   "metadata": {},
   "source": [
    "### Loading data"
   ]
  },
  {
   "cell_type": "code",
   "execution_count": 2,
   "metadata": {},
   "outputs": [
    {
     "data": {
      "text/html": [
       "<div>\n",
       "<style scoped>\n",
       "    .dataframe tbody tr th:only-of-type {\n",
       "        vertical-align: middle;\n",
       "    }\n",
       "\n",
       "    .dataframe tbody tr th {\n",
       "        vertical-align: top;\n",
       "    }\n",
       "\n",
       "    .dataframe thead th {\n",
       "        text-align: right;\n",
       "    }\n",
       "</style>\n",
       "<table border=\"1\" class=\"dataframe\">\n",
       "  <thead>\n",
       "    <tr style=\"text-align: right;\">\n",
       "      <th></th>\n",
       "      <th>TP_ESCOLA</th>\n",
       "      <th>TP_LINGUA</th>\n",
       "      <th>Escolaridade_Pai</th>\n",
       "      <th>Escolaridade_Mae</th>\n",
       "      <th>Ocupacao_Pai</th>\n",
       "      <th>Ocupacao_Mae</th>\n",
       "      <th>Renda_Mensal</th>\n",
       "      <th>Banheiros</th>\n",
       "      <th>Freezer</th>\n",
       "      <th>Computador</th>\n",
       "      <th>DESEMPENHO_BAIXO</th>\n",
       "      <th>Renda_per_capta</th>\n",
       "      <th>Pessoas_por_computador</th>\n",
       "      <th>Celulares_por_pessoa</th>\n",
       "    </tr>\n",
       "  </thead>\n",
       "  <tbody>\n",
       "    <tr>\n",
       "      <th>count</th>\n",
       "      <td>3.168898e+06</td>\n",
       "      <td>3.168898e+06</td>\n",
       "      <td>3.168898e+06</td>\n",
       "      <td>3.168898e+06</td>\n",
       "      <td>3.168898e+06</td>\n",
       "      <td>3.168898e+06</td>\n",
       "      <td>3.168898e+06</td>\n",
       "      <td>3.168898e+06</td>\n",
       "      <td>3.168898e+06</td>\n",
       "      <td>3.168898e+06</td>\n",
       "      <td>3.168898e+06</td>\n",
       "      <td>3.168898e+06</td>\n",
       "      <td>3.168898e+06</td>\n",
       "      <td>3.168898e+06</td>\n",
       "    </tr>\n",
       "    <tr>\n",
       "      <th>mean</th>\n",
       "      <td>4.491498e-01</td>\n",
       "      <td>5.271628e-01</td>\n",
       "      <td>3.439471e+00</td>\n",
       "      <td>4.073692e+00</td>\n",
       "      <td>2.296138e+00</td>\n",
       "      <td>2.226948e+00</td>\n",
       "      <td>3.496580e+00</td>\n",
       "      <td>1.369465e+00</td>\n",
       "      <td>3.874868e-01</td>\n",
       "      <td>6.882020e-01</td>\n",
       "      <td>5.000047e-01</td>\n",
       "      <td>8.346541e+02</td>\n",
       "      <td>1.819410e+00</td>\n",
       "      <td>4.273131e+01</td>\n",
       "    </tr>\n",
       "    <tr>\n",
       "      <th>std</th>\n",
       "      <td>6.148688e-01</td>\n",
       "      <td>4.992617e-01</td>\n",
       "      <td>1.873869e+00</td>\n",
       "      <td>1.719509e+00</td>\n",
       "      <td>1.392760e+00</td>\n",
       "      <td>1.279828e+00</td>\n",
       "      <td>3.254036e+00</td>\n",
       "      <td>7.059705e-01</td>\n",
       "      <td>5.448613e-01</td>\n",
       "      <td>7.721223e-01</td>\n",
       "      <td>5.000001e-01</td>\n",
       "      <td>1.252211e+03</td>\n",
       "      <td>1.986800e+00</td>\n",
       "      <td>9.523057e+00</td>\n",
       "    </tr>\n",
       "    <tr>\n",
       "      <th>min</th>\n",
       "      <td>0.000000e+00</td>\n",
       "      <td>0.000000e+00</td>\n",
       "      <td>0.000000e+00</td>\n",
       "      <td>0.000000e+00</td>\n",
       "      <td>0.000000e+00</td>\n",
       "      <td>0.000000e+00</td>\n",
       "      <td>0.000000e+00</td>\n",
       "      <td>0.000000e+00</td>\n",
       "      <td>0.000000e+00</td>\n",
       "      <td>0.000000e+00</td>\n",
       "      <td>0.000000e+00</td>\n",
       "      <td>0.000000e+00</td>\n",
       "      <td>0.000000e+00</td>\n",
       "      <td>0.000000e+00</td>\n",
       "    </tr>\n",
       "    <tr>\n",
       "      <th>25%</th>\n",
       "      <td>0.000000e+00</td>\n",
       "      <td>0.000000e+00</td>\n",
       "      <td>2.000000e+00</td>\n",
       "      <td>3.000000e+00</td>\n",
       "      <td>1.000000e+00</td>\n",
       "      <td>1.000000e+00</td>\n",
       "      <td>1.000000e+00</td>\n",
       "      <td>1.000000e+00</td>\n",
       "      <td>0.000000e+00</td>\n",
       "      <td>0.000000e+00</td>\n",
       "      <td>0.000000e+00</td>\n",
       "      <td>2.994000e+02</td>\n",
       "      <td>0.000000e+00</td>\n",
       "      <td>4.300000e+01</td>\n",
       "    </tr>\n",
       "    <tr>\n",
       "      <th>50%</th>\n",
       "      <td>0.000000e+00</td>\n",
       "      <td>1.000000e+00</td>\n",
       "      <td>3.000000e+00</td>\n",
       "      <td>5.000000e+00</td>\n",
       "      <td>2.000000e+00</td>\n",
       "      <td>2.000000e+00</td>\n",
       "      <td>2.000000e+00</td>\n",
       "      <td>1.000000e+00</td>\n",
       "      <td>0.000000e+00</td>\n",
       "      <td>1.000000e+00</td>\n",
       "      <td>1.000000e+00</td>\n",
       "      <td>4.990000e+02</td>\n",
       "      <td>1.333333e+00</td>\n",
       "      <td>4.600000e+01</td>\n",
       "    </tr>\n",
       "    <tr>\n",
       "      <th>75%</th>\n",
       "      <td>1.000000e+00</td>\n",
       "      <td>1.000000e+00</td>\n",
       "      <td>5.000000e+00</td>\n",
       "      <td>5.000000e+00</td>\n",
       "      <td>3.000000e+00</td>\n",
       "      <td>3.000000e+00</td>\n",
       "      <td>5.000000e+00</td>\n",
       "      <td>2.000000e+00</td>\n",
       "      <td>1.000000e+00</td>\n",
       "      <td>1.000000e+00</td>\n",
       "      <td>1.000000e+00</td>\n",
       "      <td>8.316667e+02</td>\n",
       "      <td>3.000000e+00</td>\n",
       "      <td>4.900000e+01</td>\n",
       "    </tr>\n",
       "    <tr>\n",
       "      <th>max</th>\n",
       "      <td>2.000000e+00</td>\n",
       "      <td>1.000000e+00</td>\n",
       "      <td>7.000000e+00</td>\n",
       "      <td>7.000000e+00</td>\n",
       "      <td>5.000000e+00</td>\n",
       "      <td>5.000000e+00</td>\n",
       "      <td>1.600000e+01</td>\n",
       "      <td>4.000000e+00</td>\n",
       "      <td>4.000000e+00</td>\n",
       "      <td>4.000000e+00</td>\n",
       "      <td>1.000000e+00</td>\n",
       "      <td>3.000000e+04</td>\n",
       "      <td>2.000000e+01</td>\n",
       "      <td>5.400000e+01</td>\n",
       "    </tr>\n",
       "  </tbody>\n",
       "</table>\n",
       "</div>"
      ],
      "text/plain": [
       "          TP_ESCOLA     TP_LINGUA  Escolaridade_Pai  Escolaridade_Mae  \\\n",
       "count  3.168898e+06  3.168898e+06      3.168898e+06      3.168898e+06   \n",
       "mean   4.491498e-01  5.271628e-01      3.439471e+00      4.073692e+00   \n",
       "std    6.148688e-01  4.992617e-01      1.873869e+00      1.719509e+00   \n",
       "min    0.000000e+00  0.000000e+00      0.000000e+00      0.000000e+00   \n",
       "25%    0.000000e+00  0.000000e+00      2.000000e+00      3.000000e+00   \n",
       "50%    0.000000e+00  1.000000e+00      3.000000e+00      5.000000e+00   \n",
       "75%    1.000000e+00  1.000000e+00      5.000000e+00      5.000000e+00   \n",
       "max    2.000000e+00  1.000000e+00      7.000000e+00      7.000000e+00   \n",
       "\n",
       "       Ocupacao_Pai  Ocupacao_Mae  Renda_Mensal     Banheiros       Freezer  \\\n",
       "count  3.168898e+06  3.168898e+06  3.168898e+06  3.168898e+06  3.168898e+06   \n",
       "mean   2.296138e+00  2.226948e+00  3.496580e+00  1.369465e+00  3.874868e-01   \n",
       "std    1.392760e+00  1.279828e+00  3.254036e+00  7.059705e-01  5.448613e-01   \n",
       "min    0.000000e+00  0.000000e+00  0.000000e+00  0.000000e+00  0.000000e+00   \n",
       "25%    1.000000e+00  1.000000e+00  1.000000e+00  1.000000e+00  0.000000e+00   \n",
       "50%    2.000000e+00  2.000000e+00  2.000000e+00  1.000000e+00  0.000000e+00   \n",
       "75%    3.000000e+00  3.000000e+00  5.000000e+00  2.000000e+00  1.000000e+00   \n",
       "max    5.000000e+00  5.000000e+00  1.600000e+01  4.000000e+00  4.000000e+00   \n",
       "\n",
       "         Computador  DESEMPENHO_BAIXO  Renda_per_capta  \\\n",
       "count  3.168898e+06      3.168898e+06     3.168898e+06   \n",
       "mean   6.882020e-01      5.000047e-01     8.346541e+02   \n",
       "std    7.721223e-01      5.000001e-01     1.252211e+03   \n",
       "min    0.000000e+00      0.000000e+00     0.000000e+00   \n",
       "25%    0.000000e+00      0.000000e+00     2.994000e+02   \n",
       "50%    1.000000e+00      1.000000e+00     4.990000e+02   \n",
       "75%    1.000000e+00      1.000000e+00     8.316667e+02   \n",
       "max    4.000000e+00      1.000000e+00     3.000000e+04   \n",
       "\n",
       "       Pessoas_por_computador  Celulares_por_pessoa  \n",
       "count            3.168898e+06          3.168898e+06  \n",
       "mean             1.819410e+00          4.273131e+01  \n",
       "std              1.986800e+00          9.523057e+00  \n",
       "min              0.000000e+00          0.000000e+00  \n",
       "25%              0.000000e+00          4.300000e+01  \n",
       "50%              1.333333e+00          4.600000e+01  \n",
       "75%              3.000000e+00          4.900000e+01  \n",
       "max              2.000000e+01          5.400000e+01  "
      ]
     },
     "execution_count": 2,
     "metadata": {},
     "output_type": "execute_result"
    }
   ],
   "source": [
    "data = pd.read_csv(\"../dataset/dataset_3.csv\", sep = \";\").drop(\"Unnamed: 0\", 1)\n",
    "data.describe()"
   ]
  },
  {
   "cell_type": "markdown",
   "metadata": {},
   "source": [
    "### Spliting train and test data"
   ]
  },
  {
   "cell_type": "code",
   "execution_count": 3,
   "metadata": {},
   "outputs": [],
   "source": [
    "train, test = train_test_split(data, test_size=0.30)"
   ]
  },
  {
   "cell_type": "markdown",
   "metadata": {},
   "source": [
    "## XGBoost"
   ]
  },
  {
   "cell_type": "code",
   "execution_count": null,
   "metadata": {},
   "outputs": [],
   "source": [
    "model = xgb.XGBClassifier(n_jobs = -1).fit(train.drop([\"DESEMPENHO_BAIXO\"], 1), train[\"DESEMPENHO_BAIXO\"])\n",
    "predictions = model.predict(test.drop([\"DESEMPENHO_BAIXO\"], 1))\n",
    "precision = precision_score(test[\"DESEMPENHO_BAIXO\"] , predictions, average = \"micro\")\n",
    "recall = recall_score(test[\"DESEMPENHO_BAIXO\"] , predictions, average = \"binary\")\n",
    "print(\"Precision: \" + str(precision))\n",
    "print(\"Recall: \" + str(recall))\n",
    "plot_confusion_matrix(model, test.drop([\"DESEMPENHO_BAIXO\"], 1), test[\"DESEMPENHO_BAIXO\"], cmap = plt.cm.Blues)"
   ]
  },
  {
   "cell_type": "markdown",
   "metadata": {},
   "source": [
    "## Decision Tree Classifier"
   ]
  },
  {
   "cell_type": "code",
   "execution_count": null,
   "metadata": {},
   "outputs": [],
   "source": [
    "model = DecisionTreeClassifier().fit(train.drop(\"DESEMPENHO_BAIXO\", 1), train[\"DESEMPENHO_BAIXO\"])\n",
    "predictions = model.predict(test.drop([\"DESEMPENHO_BAIXO\"], 1))\n",
    "precision = precision_score(test[\"DESEMPENHO_BAIXO\"] , predictions, average = \"micro\")\n",
    "recall = recall_score(test[\"DESEMPENHO_BAIXO\"] , predictions, average = \"binary\")\n",
    "print(\"Precision: \" + str(precision))\n",
    "print(\"Recall: \" + str(recall))\n",
    "plot_confusion_matrix(model, test.drop([\"DESEMPENHO_BAIXO\"], 1), test[\"DESEMPENHO_BAIXO\"], cmap = plt.cm.Blues)"
   ]
  },
  {
   "cell_type": "markdown",
   "metadata": {},
   "source": [
    "### Finding the best parameters"
   ]
  },
  {
   "cell_type": "code",
   "execution_count": null,
   "metadata": {},
   "outputs": [],
   "source": [
    "random_grid = {'max_depth': [5, 8, 10, 12, 15, 20],\n",
    "               'min_samples_split': [2, 5, 10, 15, 20, 40],\n",
    "               'min_samples_leaf': [1, 5, 10, 15, 20, 30, 40, 60, 80],\n",
    "                }\n",
    "\n",
    "rf = DecisionTreeClassifier()\n",
    "rf_random = RandomizedSearchCV(estimator = rf, param_distributions = random_grid, n_iter = 50, cv = 3, \n",
    "                               random_state=42, n_jobs = -1)\n",
    "rf_random.fit(train.drop(\"DESEMPENHO_BAIXO\", 1), train[\"DESEMPENHO_BAIXO\"])\n",
    "rf_random.best_params_"
   ]
  },
  {
   "cell_type": "code",
   "execution_count": null,
   "metadata": {},
   "outputs": [],
   "source": [
    "model = DecisionTreeClassifier(max_depth = 12, min_samples_split = 40, min_samples_leaf = 60).fit(train.drop(\"DESEMPENHO_BAIXO\", 1), train[\"DESEMPENHO_BAIXO\"])\n",
    "predictions = model.predict(test.drop([\"DESEMPENHO_BAIXO\"], 1))\n",
    "precision = precision_score(test[\"DESEMPENHO_BAIXO\"] , predictions, average = \"micro\")\n",
    "recall = recall_score(test[\"DESEMPENHO_BAIXO\"] , predictions, average = \"binary\")\n",
    "print(\"Precision: \" + str(precision))\n",
    "print(\"Recall: \" + str(recall))\n",
    "plot_confusion_matrix(model, test.drop([\"DESEMPENHO_BAIXO\"], 1), test[\"DESEMPENHO_BAIXO\"], cmap = plt.cm.Blues)"
   ]
  },
  {
   "cell_type": "code",
   "execution_count": null,
   "metadata": {
    "scrolled": false
   },
   "outputs": [],
   "source": [
    "plt.figure(figsize=(100,50))\n",
    "tree.plot_tree(model, feature_names=data.columns, class_names= [\"Abaixo_da_Media\", \"Acima_da_Media\"],\n",
    "                filled=True)"
   ]
  },
  {
   "cell_type": "markdown",
   "metadata": {},
   "source": [
    "## Saving data"
   ]
  },
  {
   "cell_type": "code",
   "execution_count": null,
   "metadata": {},
   "outputs": [],
   "source": [
    "data.to_csv(\"../dataset/dataset_4.csv\", sep = \";\")"
   ]
  }
 ],
 "metadata": {
  "kernelspec": {
   "display_name": "Python 3",
   "language": "python",
   "name": "python3"
  },
  "language_info": {
   "codemirror_mode": {
    "name": "ipython",
    "version": 3
   },
   "file_extension": ".py",
   "mimetype": "text/x-python",
   "name": "python",
   "nbconvert_exporter": "python",
   "pygments_lexer": "ipython3",
   "version": "3.8.3"
  }
 },
 "nbformat": 4,
 "nbformat_minor": 4
}
