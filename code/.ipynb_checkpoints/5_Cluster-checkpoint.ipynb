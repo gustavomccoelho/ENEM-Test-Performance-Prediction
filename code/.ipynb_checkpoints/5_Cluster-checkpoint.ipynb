{
 "cells": [
  {
   "cell_type": "code",
   "execution_count": 1,
   "metadata": {},
   "outputs": [],
   "source": [
    "import pandas as pd\n",
    "import numpy as np\n",
    "from scipy import stats\n",
    "from sklearn.cluster import KMeans\n",
    "import seaborn as sns\n",
    "import matplotlib.pyplot as plt\n",
    "from sklearn.decomposition import PCA\n",
    "import xgboost as xgb\n",
    "from sklearn.model_selection import train_test_split\n",
    "from sklearn.metrics import precision_score\n",
    "from sklearn.metrics import recall_score\n",
    "from sklearn.metrics import plot_confusion_matrix"
   ]
  },
  {
   "cell_type": "markdown",
   "metadata": {},
   "source": [
    "## Loading data"
   ]
  },
  {
   "cell_type": "code",
   "execution_count": 2,
   "metadata": {},
   "outputs": [
    {
     "data": {
      "text/html": [
       "<div>\n",
       "<style scoped>\n",
       "    .dataframe tbody tr th:only-of-type {\n",
       "        vertical-align: middle;\n",
       "    }\n",
       "\n",
       "    .dataframe tbody tr th {\n",
       "        vertical-align: top;\n",
       "    }\n",
       "\n",
       "    .dataframe thead th {\n",
       "        text-align: right;\n",
       "    }\n",
       "</style>\n",
       "<table border=\"1\" class=\"dataframe\">\n",
       "  <thead>\n",
       "    <tr style=\"text-align: right;\">\n",
       "      <th></th>\n",
       "      <th>TP_ESCOLA</th>\n",
       "      <th>TP_LINGUA</th>\n",
       "      <th>Escolaridade_Pai</th>\n",
       "      <th>Escolaridade_Mae</th>\n",
       "      <th>Ocupacao_Pai</th>\n",
       "      <th>Ocupacao_Mae</th>\n",
       "      <th>Renda_Mensal</th>\n",
       "      <th>Banheiros</th>\n",
       "      <th>Freezer</th>\n",
       "      <th>Computador</th>\n",
       "      <th>DESEMPENHO_BAIXO</th>\n",
       "      <th>Renda_per_capta</th>\n",
       "      <th>Pessoas_por_computador</th>\n",
       "      <th>Celulares_por_pessoa</th>\n",
       "    </tr>\n",
       "  </thead>\n",
       "  <tbody>\n",
       "    <tr>\n",
       "      <th>count</th>\n",
       "      <td>3.168898e+06</td>\n",
       "      <td>3.168898e+06</td>\n",
       "      <td>3.168898e+06</td>\n",
       "      <td>3.168898e+06</td>\n",
       "      <td>3.168898e+06</td>\n",
       "      <td>3.168898e+06</td>\n",
       "      <td>3.168898e+06</td>\n",
       "      <td>3.168898e+06</td>\n",
       "      <td>3.168898e+06</td>\n",
       "      <td>3.168898e+06</td>\n",
       "      <td>3.168898e+06</td>\n",
       "      <td>3.168898e+06</td>\n",
       "      <td>3.168898e+06</td>\n",
       "      <td>3.168898e+06</td>\n",
       "    </tr>\n",
       "    <tr>\n",
       "      <th>mean</th>\n",
       "      <td>4.491498e-01</td>\n",
       "      <td>5.271628e-01</td>\n",
       "      <td>3.439471e+00</td>\n",
       "      <td>4.073692e+00</td>\n",
       "      <td>2.296138e+00</td>\n",
       "      <td>2.226948e+00</td>\n",
       "      <td>3.496580e+00</td>\n",
       "      <td>1.369465e+00</td>\n",
       "      <td>3.874868e-01</td>\n",
       "      <td>6.882020e-01</td>\n",
       "      <td>5.000047e-01</td>\n",
       "      <td>8.346541e+02</td>\n",
       "      <td>1.819410e+00</td>\n",
       "      <td>4.273131e+01</td>\n",
       "    </tr>\n",
       "    <tr>\n",
       "      <th>std</th>\n",
       "      <td>6.148688e-01</td>\n",
       "      <td>4.992617e-01</td>\n",
       "      <td>1.873869e+00</td>\n",
       "      <td>1.719509e+00</td>\n",
       "      <td>1.392760e+00</td>\n",
       "      <td>1.279828e+00</td>\n",
       "      <td>3.254036e+00</td>\n",
       "      <td>7.059705e-01</td>\n",
       "      <td>5.448613e-01</td>\n",
       "      <td>7.721223e-01</td>\n",
       "      <td>5.000001e-01</td>\n",
       "      <td>1.252211e+03</td>\n",
       "      <td>1.986800e+00</td>\n",
       "      <td>9.523057e+00</td>\n",
       "    </tr>\n",
       "    <tr>\n",
       "      <th>min</th>\n",
       "      <td>0.000000e+00</td>\n",
       "      <td>0.000000e+00</td>\n",
       "      <td>0.000000e+00</td>\n",
       "      <td>0.000000e+00</td>\n",
       "      <td>0.000000e+00</td>\n",
       "      <td>0.000000e+00</td>\n",
       "      <td>0.000000e+00</td>\n",
       "      <td>0.000000e+00</td>\n",
       "      <td>0.000000e+00</td>\n",
       "      <td>0.000000e+00</td>\n",
       "      <td>0.000000e+00</td>\n",
       "      <td>0.000000e+00</td>\n",
       "      <td>0.000000e+00</td>\n",
       "      <td>0.000000e+00</td>\n",
       "    </tr>\n",
       "    <tr>\n",
       "      <th>25%</th>\n",
       "      <td>0.000000e+00</td>\n",
       "      <td>0.000000e+00</td>\n",
       "      <td>2.000000e+00</td>\n",
       "      <td>3.000000e+00</td>\n",
       "      <td>1.000000e+00</td>\n",
       "      <td>1.000000e+00</td>\n",
       "      <td>1.000000e+00</td>\n",
       "      <td>1.000000e+00</td>\n",
       "      <td>0.000000e+00</td>\n",
       "      <td>0.000000e+00</td>\n",
       "      <td>0.000000e+00</td>\n",
       "      <td>2.994000e+02</td>\n",
       "      <td>0.000000e+00</td>\n",
       "      <td>4.300000e+01</td>\n",
       "    </tr>\n",
       "    <tr>\n",
       "      <th>50%</th>\n",
       "      <td>0.000000e+00</td>\n",
       "      <td>1.000000e+00</td>\n",
       "      <td>3.000000e+00</td>\n",
       "      <td>5.000000e+00</td>\n",
       "      <td>2.000000e+00</td>\n",
       "      <td>2.000000e+00</td>\n",
       "      <td>2.000000e+00</td>\n",
       "      <td>1.000000e+00</td>\n",
       "      <td>0.000000e+00</td>\n",
       "      <td>1.000000e+00</td>\n",
       "      <td>1.000000e+00</td>\n",
       "      <td>4.990000e+02</td>\n",
       "      <td>1.333333e+00</td>\n",
       "      <td>4.600000e+01</td>\n",
       "    </tr>\n",
       "    <tr>\n",
       "      <th>75%</th>\n",
       "      <td>1.000000e+00</td>\n",
       "      <td>1.000000e+00</td>\n",
       "      <td>5.000000e+00</td>\n",
       "      <td>5.000000e+00</td>\n",
       "      <td>3.000000e+00</td>\n",
       "      <td>3.000000e+00</td>\n",
       "      <td>5.000000e+00</td>\n",
       "      <td>2.000000e+00</td>\n",
       "      <td>1.000000e+00</td>\n",
       "      <td>1.000000e+00</td>\n",
       "      <td>1.000000e+00</td>\n",
       "      <td>8.316667e+02</td>\n",
       "      <td>3.000000e+00</td>\n",
       "      <td>4.900000e+01</td>\n",
       "    </tr>\n",
       "    <tr>\n",
       "      <th>max</th>\n",
       "      <td>2.000000e+00</td>\n",
       "      <td>1.000000e+00</td>\n",
       "      <td>7.000000e+00</td>\n",
       "      <td>7.000000e+00</td>\n",
       "      <td>5.000000e+00</td>\n",
       "      <td>5.000000e+00</td>\n",
       "      <td>1.600000e+01</td>\n",
       "      <td>4.000000e+00</td>\n",
       "      <td>4.000000e+00</td>\n",
       "      <td>4.000000e+00</td>\n",
       "      <td>1.000000e+00</td>\n",
       "      <td>3.000000e+04</td>\n",
       "      <td>2.000000e+01</td>\n",
       "      <td>5.400000e+01</td>\n",
       "    </tr>\n",
       "  </tbody>\n",
       "</table>\n",
       "</div>"
      ],
      "text/plain": [
       "          TP_ESCOLA     TP_LINGUA  Escolaridade_Pai  Escolaridade_Mae  \\\n",
       "count  3.168898e+06  3.168898e+06      3.168898e+06      3.168898e+06   \n",
       "mean   4.491498e-01  5.271628e-01      3.439471e+00      4.073692e+00   \n",
       "std    6.148688e-01  4.992617e-01      1.873869e+00      1.719509e+00   \n",
       "min    0.000000e+00  0.000000e+00      0.000000e+00      0.000000e+00   \n",
       "25%    0.000000e+00  0.000000e+00      2.000000e+00      3.000000e+00   \n",
       "50%    0.000000e+00  1.000000e+00      3.000000e+00      5.000000e+00   \n",
       "75%    1.000000e+00  1.000000e+00      5.000000e+00      5.000000e+00   \n",
       "max    2.000000e+00  1.000000e+00      7.000000e+00      7.000000e+00   \n",
       "\n",
       "       Ocupacao_Pai  Ocupacao_Mae  Renda_Mensal     Banheiros       Freezer  \\\n",
       "count  3.168898e+06  3.168898e+06  3.168898e+06  3.168898e+06  3.168898e+06   \n",
       "mean   2.296138e+00  2.226948e+00  3.496580e+00  1.369465e+00  3.874868e-01   \n",
       "std    1.392760e+00  1.279828e+00  3.254036e+00  7.059705e-01  5.448613e-01   \n",
       "min    0.000000e+00  0.000000e+00  0.000000e+00  0.000000e+00  0.000000e+00   \n",
       "25%    1.000000e+00  1.000000e+00  1.000000e+00  1.000000e+00  0.000000e+00   \n",
       "50%    2.000000e+00  2.000000e+00  2.000000e+00  1.000000e+00  0.000000e+00   \n",
       "75%    3.000000e+00  3.000000e+00  5.000000e+00  2.000000e+00  1.000000e+00   \n",
       "max    5.000000e+00  5.000000e+00  1.600000e+01  4.000000e+00  4.000000e+00   \n",
       "\n",
       "         Computador  DESEMPENHO_BAIXO  Renda_per_capta  \\\n",
       "count  3.168898e+06      3.168898e+06     3.168898e+06   \n",
       "mean   6.882020e-01      5.000047e-01     8.346541e+02   \n",
       "std    7.721223e-01      5.000001e-01     1.252211e+03   \n",
       "min    0.000000e+00      0.000000e+00     0.000000e+00   \n",
       "25%    0.000000e+00      0.000000e+00     2.994000e+02   \n",
       "50%    1.000000e+00      1.000000e+00     4.990000e+02   \n",
       "75%    1.000000e+00      1.000000e+00     8.316667e+02   \n",
       "max    4.000000e+00      1.000000e+00     3.000000e+04   \n",
       "\n",
       "       Pessoas_por_computador  Celulares_por_pessoa  \n",
       "count            3.168898e+06          3.168898e+06  \n",
       "mean             1.819410e+00          4.273131e+01  \n",
       "std              1.986800e+00          9.523057e+00  \n",
       "min              0.000000e+00          0.000000e+00  \n",
       "25%              0.000000e+00          4.300000e+01  \n",
       "50%              1.333333e+00          4.600000e+01  \n",
       "75%              3.000000e+00          4.900000e+01  \n",
       "max              2.000000e+01          5.400000e+01  "
      ]
     },
     "execution_count": 2,
     "metadata": {},
     "output_type": "execute_result"
    }
   ],
   "source": [
    "data = pd.read_csv(\"../dataset/dataset_4.csv\", sep = \";\").drop(\"Unnamed: 0\", 1)\n",
    "data.describe()"
   ]
  },
  {
   "cell_type": "markdown",
   "metadata": {},
   "source": [
    "### Standarizing values"
   ]
  },
  {
   "cell_type": "code",
   "execution_count": 3,
   "metadata": {},
   "outputs": [],
   "source": [
    "data_std = data\n",
    "for col in data_std.columns:\n",
    "    mean = data_std[col].mean()\n",
    "    std = data_std[col].std()\n",
    "    data_std[col] = (data_std[col]-mean)/std"
   ]
  },
  {
   "cell_type": "markdown",
   "metadata": {},
   "source": [
    "## Clusters"
   ]
  },
  {
   "cell_type": "markdown",
   "metadata": {},
   "source": [
    "### Using the Elbow Method to find the best number of clusters"
   ]
  },
  {
   "cell_type": "code",
   "execution_count": null,
   "metadata": {},
   "outputs": [],
   "source": [
    "distortions = []\n",
    "K = range(2,10)\n",
    "for k in K:\n",
    "    kmeanModel = KMeans(n_clusters=k)\n",
    "    kmeanModel.fit(data_std.drop([\"DESEMPENHO_BAIXO\"], 1))\n",
    "    distortions.append(kmeanModel.inertia_)\n",
    "plt.figure(figsize=(15,8))\n",
    "plt.plot(K, distortions, 'bx-')\n",
    "plt.xlabel('Número de Clusters')\n",
    "plt.ylabel('Distorção')\n",
    "plt.show()"
   ]
  },
  {
   "cell_type": "code",
   "execution_count": null,
   "metadata": {},
   "outputs": [],
   "source": [
    "# Applying K-Means\n",
    "n = 3\n",
    "kmeans = KMeans(n_clusters = n).fit(data_std.drop([\"DESEMPENHO_BAIXO\"], 1))\n",
    "labels = kmeans.labels_"
   ]
  },
  {
   "cell_type": "code",
   "execution_count": null,
   "metadata": {},
   "outputs": [],
   "source": [
    "# Applying PCA to reduce dimentions for plotting purposes\n",
    "    \n",
    "pca = PCA(n_components = 2).fit(np.array(data_std.drop([\"DESEMPENHO_BAIXO\"], 1)))\n",
    "pca_2d = pca.transform(np.array(data_std.drop([\"DESEMPENHO_BAIXO\"], 1)))\n",
    "centers = pca.transform(kmeans.cluster_centers_)\n",
    "print(\"Explained variance: \" + str(round(100*sum(pca.explained_variance_ratio_), 2)) + \"%\")"
   ]
  },
  {
   "cell_type": "code",
   "execution_count": null,
   "metadata": {},
   "outputs": [],
   "source": [
    "plt.figure(figsize=(10, 10))\n",
    "sns.scatterplot(x=pca_2d[:, 0], y=pca_2d[:, 1], hue=labels, cmap = \"mako\")\n",
    "plt.legend([\"Cluster 0\", \"Cluster 1\", \"Cluster 2\"])"
   ]
  },
  {
   "cell_type": "code",
   "execution_count": null,
   "metadata": {},
   "outputs": [],
   "source": [
    "plt.figure(figsize=(10, 10))\n",
    "sns.scatterplot(x=pca_2d[:, 0], y=pca_2d[:, 1], hue=data[\"DESEMPENHO_BAIXO\"])\n",
    "plt.legend([\"Candidatos abaixo da média\", \"Candidatos acima da média\"])"
   ]
  },
  {
   "cell_type": "markdown",
   "metadata": {},
   "source": [
    "### Removing the intermediate cluster"
   ]
  },
  {
   "cell_type": "code",
   "execution_count": null,
   "metadata": {},
   "outputs": [],
   "source": [
    "data[\"Cluster\"] = labels\n",
    "data = data[data[\"Cluster\"]!=0]\n",
    "data = data.drop(\"Cluster\", 1)\n",
    "train, test = train_test_split(data, test_size=0.30)"
   ]
  },
  {
   "cell_type": "code",
   "execution_count": null,
   "metadata": {},
   "outputs": [],
   "source": [
    "weight = len(train[train[\"DESEMPENHO_BAIXO\"] == 1])/len(train[train[\"DESEMPENHO_BAIXO\"] == 0])"
   ]
  },
  {
   "cell_type": "code",
   "execution_count": null,
   "metadata": {},
   "outputs": [],
   "source": [
    "random_grid = {'max_depth': [5, 8, 10, 12, 15, 20],\n",
    "               'min_samples_split': [5, 10, 20, 40, 100, 200, 500, 1000],\n",
    "               'min_samples_leaf': [30, 40, 60, 80, 150, 300, 500, 1000],\n",
    "               'scale_pos_weight': weight\n",
    "                }\n",
    "\n",
    "rf = DecisionTreeClassifier()\n",
    "rf_random = RandomizedSearchCV(estimator = rf, param_distributions = random_grid, n_iter = 100, cv = 3, \n",
    "                               random_state=42, n_jobs = -1)\n",
    "rf_random.fit(train.drop(\"DESEMPENHO_BAIXO\", 1), train[\"DESEMPENHO_BAIXO\"])\n",
    "rf_random.best_params_"
   ]
  }
 ],
 "metadata": {
  "kernelspec": {
   "display_name": "Python 3",
   "language": "python",
   "name": "python3"
  },
  "language_info": {
   "codemirror_mode": {
    "name": "ipython",
    "version": 3
   },
   "file_extension": ".py",
   "mimetype": "text/x-python",
   "name": "python",
   "nbconvert_exporter": "python",
   "pygments_lexer": "ipython3",
   "version": "3.8.3"
  }
 },
 "nbformat": 4,
 "nbformat_minor": 4
}
