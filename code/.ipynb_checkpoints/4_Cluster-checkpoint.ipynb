{
 "cells": [
  {
   "cell_type": "code",
   "execution_count": null,
   "metadata": {},
   "outputs": [],
   "source": [
    "import pandas as pd\n",
    "import numpy as np\n",
    "from scipy import stats\n",
    "from sklearn.cluster import KMeans\n",
    "from sklearn.ensemble import RandomForestRegressor\n",
    "from sklearn.model_selection import train_test_split\n",
    "from sklearn.metrics import r2_score\n",
    "from sklearn.metrics import mean_squared_error\n",
    "import seaborn as sns\n",
    "import matplotlib.pyplot as plt\n",
    "from sklearn.inspection import permutation_importance\n",
    "from sklearn import neighbors\n",
    "from sklearn.linear_model import LinearRegression\n",
    "from sklearn.feature_selection import mutual_info_regression\n",
    "from sklearn.svm import SVR\n",
    "import xgboost as xgb"
   ]
  },
  {
   "cell_type": "markdown",
   "metadata": {},
   "source": [
    "### Clusters"
   ]
  },
  {
   "cell_type": "code",
   "execution_count": null,
   "metadata": {},
   "outputs": [],
   "source": [
    "# Finding the best number of clusters\n",
    "\n",
    "distortions = []\n",
    "K = range(2,10)\n",
    "for k in K:\n",
    "    kmeanModel = KMeans(n_clusters=k)\n",
    "    kmeanModel.fit(data.drop([\"NOTA_MEDIA\"], 1))\n",
    "    distortions.append(kmeanModel.inertia_)\n",
    "plt.figure(figsize=(15,8))\n",
    "plt.plot(K, distortions, 'bx-')\n",
    "plt.xlabel('k')\n",
    "plt.ylabel('Distorção')\n",
    "plt.title('Método Elbow para encontrar o valor ótimo de k')\n",
    "plt.show()"
   ]
  },
  {
   "cell_type": "code",
   "execution_count": null,
   "metadata": {},
   "outputs": [],
   "source": [
    "# Applying K-Means\n",
    "n = 6\n",
    "kmeans = KMeans(n_clusters = n).fit(data.drop([\"NOTA_MEDIA\"], 1))\n",
    "labels = kmeans.labels_"
   ]
  },
  {
   "cell_type": "code",
   "execution_count": null,
   "metadata": {},
   "outputs": [],
   "source": [
    "# Applying PCA to reduce dimentions for plotting purposes\n",
    "    \n",
    "pca = PCA(n_components = 2).fit(np.array(data.drop([\"NOTA_MEDIA\"], 1)))\n",
    "pca_2d = pca.transform(np.array(data.drop([\"NOTA_MEDIA\"], 1)))\n",
    "centers = pca.transform(kmeans.cluster_centers_)\n",
    "print(\"Explained variance: \" + str(round(100*sum(pca.explained_variance_ratio_), 2)) + \"%\")"
   ]
  },
  {
   "cell_type": "code",
   "execution_count": null,
   "metadata": {},
   "outputs": [],
   "source": [
    "plt.figure(figsize=(15, 15))\n",
    "sns.scatterplot(x=pca_2d[:, 0], y=pca_2d[:, 1], hue=labels).set_title(\"Clusterização\")"
   ]
  },
  {
   "cell_type": "code",
   "execution_count": null,
   "metadata": {},
   "outputs": [],
   "source": [
    "plt.figure(figsize=(15, 15))\n",
    "sns.scatterplot(x=pca_2d[:, 0], y=pca_2d[:, 1], hue=data[\"NOTA_MEDIA\"]*std[\"NOTA_MEDIA\"]+mean[\"NOTA_MEDIA\"]).set_title(\"Clusterização\")"
   ]
  }
 ],
 "metadata": {
  "kernelspec": {
   "display_name": "Python 3",
   "language": "python",
   "name": "python3"
  },
  "language_info": {
   "codemirror_mode": {
    "name": "ipython",
    "version": 3
   },
   "file_extension": ".py",
   "mimetype": "text/x-python",
   "name": "python",
   "nbconvert_exporter": "python",
   "pygments_lexer": "ipython3",
   "version": "3.8.3"
  }
 },
 "nbformat": 4,
 "nbformat_minor": 4
}
