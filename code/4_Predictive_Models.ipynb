{
 "cells": [
  {
   "cell_type": "code",
   "execution_count": 28,
   "metadata": {},
   "outputs": [],
   "source": [
    "import pandas as pd\n",
    "import numpy as np\n",
    "from sklearn.model_selection import RandomizedSearchCV\n",
    "import xgboost as xgb\n",
    "from sklearn.ensemble import RandomForestClassifier\n",
    "from sklearn.naive_bayes import GaussianNB\n",
    "from sklearn.model_selection import train_test_split\n",
    "from sklearn.metrics import precision_score\n",
    "from sklearn.metrics import recall_score\n",
    "from sklearn.metrics import plot_confusion_matrix\n",
    "import seaborn as sns\n",
    "import matplotlib.pyplot as plt\n",
    "from sklearn.inspection import permutation_importance\n",
    "import time"
   ]
  },
  {
   "cell_type": "code",
   "execution_count": 29,
   "metadata": {},
   "outputs": [
    {
     "data": {
      "text/html": [
       "<div>\n",
       "<style scoped>\n",
       "    .dataframe tbody tr th:only-of-type {\n",
       "        vertical-align: middle;\n",
       "    }\n",
       "\n",
       "    .dataframe tbody tr th {\n",
       "        vertical-align: top;\n",
       "    }\n",
       "\n",
       "    .dataframe thead th {\n",
       "        text-align: right;\n",
       "    }\n",
       "</style>\n",
       "<table border=\"1\" class=\"dataframe\">\n",
       "  <thead>\n",
       "    <tr style=\"text-align: right;\">\n",
       "      <th></th>\n",
       "      <th>TP_ESCOLA</th>\n",
       "      <th>TP_LINGUA</th>\n",
       "      <th>Q001</th>\n",
       "      <th>Q002</th>\n",
       "      <th>Q003</th>\n",
       "      <th>Q004</th>\n",
       "      <th>Q006</th>\n",
       "      <th>Q008</th>\n",
       "      <th>Q010</th>\n",
       "      <th>Q013</th>\n",
       "      <th>Q014</th>\n",
       "      <th>Q016</th>\n",
       "      <th>Q019</th>\n",
       "      <th>Q022</th>\n",
       "      <th>Q024</th>\n",
       "      <th>Q025</th>\n",
       "      <th>NIVEL_MT</th>\n",
       "      <th>Renda_per_capta</th>\n",
       "      <th>Pessoas_por_quarto</th>\n",
       "    </tr>\n",
       "  </thead>\n",
       "  <tbody>\n",
       "    <tr>\n",
       "      <th>count</th>\n",
       "      <td>3.168898e+06</td>\n",
       "      <td>3.168898e+06</td>\n",
       "      <td>3.168898e+06</td>\n",
       "      <td>3.168898e+06</td>\n",
       "      <td>3.168898e+06</td>\n",
       "      <td>3.168898e+06</td>\n",
       "      <td>3.168898e+06</td>\n",
       "      <td>3.168898e+06</td>\n",
       "      <td>3.168898e+06</td>\n",
       "      <td>3.168898e+06</td>\n",
       "      <td>3.168898e+06</td>\n",
       "      <td>3.168898e+06</td>\n",
       "      <td>3.168898e+06</td>\n",
       "      <td>3.168898e+06</td>\n",
       "      <td>3.168898e+06</td>\n",
       "      <td>3.168898e+06</td>\n",
       "      <td>3.168898e+06</td>\n",
       "      <td>3.168898e+06</td>\n",
       "      <td>3.168898e+06</td>\n",
       "    </tr>\n",
       "    <tr>\n",
       "      <th>mean</th>\n",
       "      <td>4.491498e-01</td>\n",
       "      <td>5.271628e-01</td>\n",
       "      <td>3.439471e+00</td>\n",
       "      <td>4.073692e+00</td>\n",
       "      <td>2.296138e+00</td>\n",
       "      <td>2.226948e+00</td>\n",
       "      <td>3.496580e+00</td>\n",
       "      <td>1.369465e+00</td>\n",
       "      <td>5.234391e-01</td>\n",
       "      <td>3.874868e-01</td>\n",
       "      <td>5.953612e-01</td>\n",
       "      <td>4.919780e-01</td>\n",
       "      <td>1.309397e+00</td>\n",
       "      <td>2.399529e+00</td>\n",
       "      <td>6.882020e-01</td>\n",
       "      <td>7.773933e-01</td>\n",
       "      <td>2.500374e-01</td>\n",
       "      <td>-4.522173e-13</td>\n",
       "      <td>3.691336e-12</td>\n",
       "    </tr>\n",
       "    <tr>\n",
       "      <th>std</th>\n",
       "      <td>6.148688e-01</td>\n",
       "      <td>4.992617e-01</td>\n",
       "      <td>1.873869e+00</td>\n",
       "      <td>1.719509e+00</td>\n",
       "      <td>1.392760e+00</td>\n",
       "      <td>1.279828e+00</td>\n",
       "      <td>3.254036e+00</td>\n",
       "      <td>7.059705e-01</td>\n",
       "      <td>6.844870e-01</td>\n",
       "      <td>5.448613e-01</td>\n",
       "      <td>5.094890e-01</td>\n",
       "      <td>5.101993e-01</td>\n",
       "      <td>7.446282e-01</td>\n",
       "      <td>1.070197e+00</td>\n",
       "      <td>7.721223e-01</td>\n",
       "      <td>4.159964e-01</td>\n",
       "      <td>4.330344e-01</td>\n",
       "      <td>1.000000e+00</td>\n",
       "      <td>1.000000e+00</td>\n",
       "    </tr>\n",
       "    <tr>\n",
       "      <th>min</th>\n",
       "      <td>0.000000e+00</td>\n",
       "      <td>0.000000e+00</td>\n",
       "      <td>0.000000e+00</td>\n",
       "      <td>0.000000e+00</td>\n",
       "      <td>0.000000e+00</td>\n",
       "      <td>0.000000e+00</td>\n",
       "      <td>0.000000e+00</td>\n",
       "      <td>0.000000e+00</td>\n",
       "      <td>0.000000e+00</td>\n",
       "      <td>0.000000e+00</td>\n",
       "      <td>0.000000e+00</td>\n",
       "      <td>0.000000e+00</td>\n",
       "      <td>0.000000e+00</td>\n",
       "      <td>0.000000e+00</td>\n",
       "      <td>0.000000e+00</td>\n",
       "      <td>0.000000e+00</td>\n",
       "      <td>0.000000e+00</td>\n",
       "      <td>-6.665440e-01</td>\n",
       "      <td>-1.880658e+00</td>\n",
       "    </tr>\n",
       "    <tr>\n",
       "      <th>25%</th>\n",
       "      <td>0.000000e+00</td>\n",
       "      <td>0.000000e+00</td>\n",
       "      <td>2.000000e+00</td>\n",
       "      <td>3.000000e+00</td>\n",
       "      <td>1.000000e+00</td>\n",
       "      <td>1.000000e+00</td>\n",
       "      <td>1.000000e+00</td>\n",
       "      <td>1.000000e+00</td>\n",
       "      <td>0.000000e+00</td>\n",
       "      <td>0.000000e+00</td>\n",
       "      <td>0.000000e+00</td>\n",
       "      <td>0.000000e+00</td>\n",
       "      <td>1.000000e+00</td>\n",
       "      <td>2.000000e+00</td>\n",
       "      <td>0.000000e+00</td>\n",
       "      <td>1.000000e+00</td>\n",
       "      <td>0.000000e+00</td>\n",
       "      <td>-4.274470e-01</td>\n",
       "      <td>-5.410255e-01</td>\n",
       "    </tr>\n",
       "    <tr>\n",
       "      <th>50%</th>\n",
       "      <td>0.000000e+00</td>\n",
       "      <td>1.000000e+00</td>\n",
       "      <td>3.000000e+00</td>\n",
       "      <td>5.000000e+00</td>\n",
       "      <td>2.000000e+00</td>\n",
       "      <td>2.000000e+00</td>\n",
       "      <td>2.000000e+00</td>\n",
       "      <td>1.000000e+00</td>\n",
       "      <td>0.000000e+00</td>\n",
       "      <td>0.000000e+00</td>\n",
       "      <td>1.000000e+00</td>\n",
       "      <td>0.000000e+00</td>\n",
       "      <td>1.000000e+00</td>\n",
       "      <td>2.000000e+00</td>\n",
       "      <td>1.000000e+00</td>\n",
       "      <td>1.000000e+00</td>\n",
       "      <td>0.000000e+00</td>\n",
       "      <td>-2.680491e-01</td>\n",
       "      <td>-2.061174e-01</td>\n",
       "    </tr>\n",
       "    <tr>\n",
       "      <th>75%</th>\n",
       "      <td>1.000000e+00</td>\n",
       "      <td>1.000000e+00</td>\n",
       "      <td>5.000000e+00</td>\n",
       "      <td>5.000000e+00</td>\n",
       "      <td>3.000000e+00</td>\n",
       "      <td>3.000000e+00</td>\n",
       "      <td>5.000000e+00</td>\n",
       "      <td>2.000000e+00</td>\n",
       "      <td>1.000000e+00</td>\n",
       "      <td>1.000000e+00</td>\n",
       "      <td>1.000000e+00</td>\n",
       "      <td>1.000000e+00</td>\n",
       "      <td>2.000000e+00</td>\n",
       "      <td>3.000000e+00</td>\n",
       "      <td>1.000000e+00</td>\n",
       "      <td>1.000000e+00</td>\n",
       "      <td>1.000000e+00</td>\n",
       "      <td>-2.385733e-03</td>\n",
       "      <td>1.287908e-01</td>\n",
       "    </tr>\n",
       "    <tr>\n",
       "      <th>max</th>\n",
       "      <td>2.000000e+00</td>\n",
       "      <td>1.000000e+00</td>\n",
       "      <td>7.000000e+00</td>\n",
       "      <td>7.000000e+00</td>\n",
       "      <td>5.000000e+00</td>\n",
       "      <td>5.000000e+00</td>\n",
       "      <td>1.600000e+01</td>\n",
       "      <td>4.000000e+00</td>\n",
       "      <td>4.000000e+00</td>\n",
       "      <td>4.000000e+00</td>\n",
       "      <td>4.000000e+00</td>\n",
       "      <td>4.000000e+00</td>\n",
       "      <td>4.000000e+00</td>\n",
       "      <td>4.000000e+00</td>\n",
       "      <td>4.000000e+00</td>\n",
       "      <td>1.000000e+00</td>\n",
       "      <td>1.000000e+00</td>\n",
       "      <td>2.329107e+01</td>\n",
       "      <td>1.821383e+01</td>\n",
       "    </tr>\n",
       "  </tbody>\n",
       "</table>\n",
       "</div>"
      ],
      "text/plain": [
       "          TP_ESCOLA     TP_LINGUA          Q001          Q002          Q003  \\\n",
       "count  3.168898e+06  3.168898e+06  3.168898e+06  3.168898e+06  3.168898e+06   \n",
       "mean   4.491498e-01  5.271628e-01  3.439471e+00  4.073692e+00  2.296138e+00   \n",
       "std    6.148688e-01  4.992617e-01  1.873869e+00  1.719509e+00  1.392760e+00   \n",
       "min    0.000000e+00  0.000000e+00  0.000000e+00  0.000000e+00  0.000000e+00   \n",
       "25%    0.000000e+00  0.000000e+00  2.000000e+00  3.000000e+00  1.000000e+00   \n",
       "50%    0.000000e+00  1.000000e+00  3.000000e+00  5.000000e+00  2.000000e+00   \n",
       "75%    1.000000e+00  1.000000e+00  5.000000e+00  5.000000e+00  3.000000e+00   \n",
       "max    2.000000e+00  1.000000e+00  7.000000e+00  7.000000e+00  5.000000e+00   \n",
       "\n",
       "               Q004          Q006          Q008          Q010          Q013  \\\n",
       "count  3.168898e+06  3.168898e+06  3.168898e+06  3.168898e+06  3.168898e+06   \n",
       "mean   2.226948e+00  3.496580e+00  1.369465e+00  5.234391e-01  3.874868e-01   \n",
       "std    1.279828e+00  3.254036e+00  7.059705e-01  6.844870e-01  5.448613e-01   \n",
       "min    0.000000e+00  0.000000e+00  0.000000e+00  0.000000e+00  0.000000e+00   \n",
       "25%    1.000000e+00  1.000000e+00  1.000000e+00  0.000000e+00  0.000000e+00   \n",
       "50%    2.000000e+00  2.000000e+00  1.000000e+00  0.000000e+00  0.000000e+00   \n",
       "75%    3.000000e+00  5.000000e+00  2.000000e+00  1.000000e+00  1.000000e+00   \n",
       "max    5.000000e+00  1.600000e+01  4.000000e+00  4.000000e+00  4.000000e+00   \n",
       "\n",
       "               Q014          Q016          Q019          Q022          Q024  \\\n",
       "count  3.168898e+06  3.168898e+06  3.168898e+06  3.168898e+06  3.168898e+06   \n",
       "mean   5.953612e-01  4.919780e-01  1.309397e+00  2.399529e+00  6.882020e-01   \n",
       "std    5.094890e-01  5.101993e-01  7.446282e-01  1.070197e+00  7.721223e-01   \n",
       "min    0.000000e+00  0.000000e+00  0.000000e+00  0.000000e+00  0.000000e+00   \n",
       "25%    0.000000e+00  0.000000e+00  1.000000e+00  2.000000e+00  0.000000e+00   \n",
       "50%    1.000000e+00  0.000000e+00  1.000000e+00  2.000000e+00  1.000000e+00   \n",
       "75%    1.000000e+00  1.000000e+00  2.000000e+00  3.000000e+00  1.000000e+00   \n",
       "max    4.000000e+00  4.000000e+00  4.000000e+00  4.000000e+00  4.000000e+00   \n",
       "\n",
       "               Q025      NIVEL_MT  Renda_per_capta  Pessoas_por_quarto  \n",
       "count  3.168898e+06  3.168898e+06     3.168898e+06        3.168898e+06  \n",
       "mean   7.773933e-01  2.500374e-01    -4.522173e-13        3.691336e-12  \n",
       "std    4.159964e-01  4.330344e-01     1.000000e+00        1.000000e+00  \n",
       "min    0.000000e+00  0.000000e+00    -6.665440e-01       -1.880658e+00  \n",
       "25%    1.000000e+00  0.000000e+00    -4.274470e-01       -5.410255e-01  \n",
       "50%    1.000000e+00  0.000000e+00    -2.680491e-01       -2.061174e-01  \n",
       "75%    1.000000e+00  1.000000e+00    -2.385733e-03        1.287908e-01  \n",
       "max    1.000000e+00  1.000000e+00     2.329107e+01        1.821383e+01  "
      ]
     },
     "execution_count": 29,
     "metadata": {},
     "output_type": "execute_result"
    }
   ],
   "source": [
    "data = pd.read_csv(\"../dataset/dataset_3.csv\", sep = \";\").drop(\"Unnamed: 0\", 1)\n",
    "train = pd.read_csv(\"../dataset/train_3.csv\", sep = \";\").drop(\"Unnamed: 0\", 1)\n",
    "test = pd.read_csv(\"../dataset/test_3.csv\", sep = \";\").drop(\"Unnamed: 0\", 1)\n",
    "data.describe()"
   ]
  },
  {
   "cell_type": "markdown",
   "metadata": {},
   "source": [
    "### Random Forest"
   ]
  },
  {
   "cell_type": "markdown",
   "metadata": {},
   "source": [
    "### Testing hyperparameters with RandomGridSearch"
   ]
  },
  {
   "cell_type": "code",
   "execution_count": null,
   "metadata": {},
   "outputs": [],
   "source": [
    "random_grid = {'n_estimators': [200, 300, 400],\n",
    "               'max_features': ['auto', 'sqrt'],\n",
    "               'max_depth': [int(x) for x in np.linspace(10, 110, num = 11)].append(None),\n",
    "               'min_samples_split': [20, 40, 60, 80],\n",
    "               'min_samples_leaf': [10, 20, 40, 60],\n",
    "               'bootstrap': [True, False]}\n",
    "\n",
    "rf = RandomForestClassifier()\n",
    "rf_random = RandomizedSearchCV(estimator = rf, param_distributions = random_grid, n_iter = 10, cv = 3, \n",
    "                               random_state=42, n_jobs = -1)\n",
    "rf_random.fit(train.drop(\"NIVEL_MT\", 1), train[\"NIVEL_MT\"])\n",
    "rf_random.best_params_"
   ]
  },
  {
   "cell_type": "code",
   "execution_count": null,
   "metadata": {},
   "outputs": [],
   "source": [
    "rf = RandomForestClassifier(n_jobs = -1, n_estimators = 200, max_features = \"sqrt\", max_depth = 40, min_samples_split = 40,\n",
    "                           min_samples_leaf = 20, bootstrap = True, class_weight = {0: 3, 1: 1}).fit(train.drop(\"NIVEL_MT\", 1), train[\"NIVEL_MT\"])\n",
    "predictions = rf.predict(test.drop(\"NIVEL_MT\", 1))\n",
    "precision = precision_score(test[\"NIVEL_MT\"] , predictions, average = \"micro\")\n",
    "recall = recall_score(test[\"NIVEL_MT\"] , predictions, average = \"binary\")\n",
    "print(\"Precision: \" + str(precision))\n",
    "print(\"Recall: \" + str(recall))\n",
    "plot_confusion_matrix(rf, test.drop(\"NIVEL_MT\", 1), test[\"NIVEL_MT\"], cmap = \"mako\")"
   ]
  },
  {
   "cell_type": "markdown",
   "metadata": {},
   "source": [
    "### XGBoost"
   ]
  },
  {
   "cell_type": "markdown",
   "metadata": {},
   "source": [
    "#### Random Grid Search"
   ]
  },
  {
   "cell_type": "code",
   "execution_count": null,
   "metadata": {},
   "outputs": [],
   "source": [
    "random_grid = {\"learning_rate\"    : [ 0.05, 0.10, 0.15, 0.20, 0.25, 0.30, 0.40, 0.50, 0.70 ] ,\n",
    "               \"max_depth\"        : [ 5, 10, 15, 20, 30, 40 ],\n",
    "               \"min_child_weight\" : [ 1, 3, 5, 7 ],\n",
    "               \"gamma\"            : [ 0.0, 0.1, 0.2 , 0.3, 0.4 ],\n",
    "               \"colsample_bytree\" : [ 0.3, 0.4, 0.5 , 0.7 ] }\n",
    "\n",
    "rf = xgb.XGBClassifier()\n",
    "rf_random = RandomizedSearchCV(estimator = rf, param_distributions = random_grid, n_iter = 10, cv = 3, \n",
    "                               random_state=42, n_jobs = -1)\n",
    "rf_random.fit(train.drop(\"NIVEL_MT\", 1), train[\"NIVEL_MT\"])\n",
    "rf_random.best_params_"
   ]
  },
  {
   "cell_type": "code",
   "execution_count": 14,
   "metadata": {},
   "outputs": [
    {
     "name": "stdout",
     "output_type": "stream",
     "text": [
      "Precision: 0.6021479588079985\n",
      "Recall: 0.730873897480978\n"
     ]
    },
    {
     "data": {
      "text/plain": [
       "<sklearn.metrics._plot.confusion_matrix.ConfusionMatrixDisplay at 0x25ec7144d30>"
      ]
     },
     "execution_count": 14,
     "metadata": {},
     "output_type": "execute_result"
    },
    {
     "data": {
      "image/png": "[encoded data removed]",
      "text/plain": [
       "<Figure size 432x288 with 2 Axes>"
      ]
     },
     "metadata": {
      "needs_background": "light"
     },
     "output_type": "display_data"
    }
   ],
   "source": [
    "#model = rf_random.best_estimator_\n",
    "model = xgb.XGBClassifier(n_jobs = -1, min_child_weight = 5, max_depth = 5, learning_rate = 0.3,\n",
    "                         gamma = 0.2, colsample_bytree = 0.4).fit(train.drop([\"NIVEL_MT\"], 1), train[\"NIVEL_MT\"])\n",
    "predictions = model.predict(test.drop([\"NIVEL_MT\"], 1))\n",
    "precision = precision_score(test[\"NIVEL_MT\"] , predictions, average = \"micro\")\n",
    "recall = recall_score(test[\"NIVEL_MT\"] , predictions, average = \"binary\")\n",
    "print(\"Precision: \" + str(precision))\n",
    "print(\"Recall: \" + str(recall))\n",
    "plot_confusion_matrix(model, test.drop([\"NIVEL_MT\"], 1), test[\"NIVEL_MT\"], cmap = \"mako\")"
   ]
  },
  {
   "cell_type": "code",
   "execution_count": 15,
   "metadata": {},
   "outputs": [
    {
     "name": "stdout",
     "output_type": "stream",
     "text": [
      "Running time: 90.11709070205688\n"
     ]
    },
    {
     "data": {
      "image/png": "[encoded data removed]",
      "text/plain": [
       "<Figure size 720x720 with 1 Axes>"
      ]
     },
     "metadata": {
      "needs_background": "light"
     },
     "output_type": "display_data"
    }
   ],
   "source": [
    "start = time.time()\n",
    "r = permutation_importance(model, test.drop(\"NIVEL_MT\",1), test[\"NIVEL_MT\"], n_repeats = 3)\n",
    "sorted_idx = r.importances_mean.argsort()\n",
    "fig, ax = plt.subplots(figsize=(10,10))\n",
    "ax.boxplot(r.importances[sorted_idx].T, vert=False, labels = train.drop(\"NIVEL_MT\",1).columns[sorted_idx])\n",
    "fig.tight_layout()\n",
    "plt.savefig(\"../pictures/Matematica/Permutation_XGBoost.png\")\n",
    "end = time.time()\n",
    "\n",
    "print(\"Running time: \" + str(end-start))"
   ]
  },
  {
   "cell_type": "code",
   "execution_count": 30,
   "metadata": {},
   "outputs": [],
   "source": [
    "data = data.drop([\"TP_ESCOLA\", \"Q010\", \"Q006\", \"Q008\", \"Q014\", \"Q016\", \"Q019\", \"Q004\", \"Q013\"], 1)\n",
    "train = train.drop([\"TP_ESCOLA\", \"Q010\", \"Q006\", \"Q008\", \"Q014\", \"Q016\", \"Q019\", \"Q004\", \"Q013\"], 1)\n",
    "test = test.drop([\"TP_ESCOLA\", \"Q010\", \"Q006\", \"Q008\",\"Q014\", \"Q016\", \"Q019\", \"Q004\", \"Q013\"], 1)"
   ]
  },
  {
   "cell_type": "code",
   "execution_count": 60,
   "metadata": {},
   "outputs": [
    {
     "name": "stdout",
     "output_type": "stream",
     "text": [
      "Precision: 0.7534970073737469\n",
      "Recall: 0.046346808215317704\n"
     ]
    },
    {
     "data": {
      "text/plain": [
       "<sklearn.metrics._plot.confusion_matrix.ConfusionMatrixDisplay at 0x25e99e34d00>"
      ]
     },
     "execution_count": 60,
     "metadata": {},
     "output_type": "execute_result"
    },
    {
     "data": {
      "image/png": "[encoded data removed]",
      "text/plain": [
       "<Figure size 432x288 with 2 Axes>"
      ]
     },
     "metadata": {
      "needs_background": "light"
     },
     "output_type": "display_data"
    }
   ],
   "source": [
    "model = xgb.XGBClassifier(n_jobs = -1, min_child_weight = 5, max_depth = 30, learning_rate = 0.3,\n",
    "                         gamma = 0.2, colsample_bytree = 0.45).fit(data.drop(\"NIVEL_MT\", 1), data[\"NIVEL_MT\"])\n",
    "predictions = model.predict(test.drop([\"NIVEL_MT\"], 1))\n",
    "precision = precision_score(test[\"NIVEL_MT\"] , predictions, average = \"micro\")\n",
    "recall = recall_score(test[\"NIVEL_MT\"] , predictions, average = \"binary\")\n",
    "print(\"Precision: \" + str(precision))\n",
    "print(\"Recall: \" + str(recall))\n",
    "plot_confusion_matrix(model, test.drop([\"NIVEL_MT\"], 1), test[\"NIVEL_MT\"], cmap = \"mako\")"
   ]
  },
  {
   "cell_type": "markdown",
   "metadata": {},
   "source": [
    "### Naive Bayes"
   ]
  },
  {
   "cell_type": "code",
   "execution_count": 3,
   "metadata": {},
   "outputs": [
    {
     "name": "stdout",
     "output_type": "stream",
     "text": [
      "Precision: 0.5769141763177549\n",
      "Recall: 0.743323897691282\n"
     ]
    },
    {
     "data": {
      "text/plain": [
       "<sklearn.metrics._plot.confusion_matrix.ConfusionMatrixDisplay at 0x25ec72e9460>"
      ]
     },
     "execution_count": 3,
     "metadata": {},
     "output_type": "execute_result"
    },
    {
     "data": {
      "image/png": "[encoded data removed]",
      "text/plain": [
       "<Figure size 432x288 with 2 Axes>"
      ]
     },
     "metadata": {
      "needs_background": "light"
     },
     "output_type": "display_data"
    }
   ],
   "source": [
    "model = GaussianNB(priors = [0.75, 0.25]).fit(train.drop(\"NIVEL_MT\", 1), train[\"NIVEL_MT\"])\n",
    "predictions = model.predict(test.drop(\"NIVEL_MT\", 1))\n",
    "precision = precision_score(test[\"NIVEL_MT\"] , predictions, average = \"micro\")\n",
    "recall = recall_score(test[\"NIVEL_MT\"] , predictions, average = \"binary\")\n",
    "print(\"Precision: \" + str(precision))\n",
    "print(\"Recall: \" + str(recall))\n",
    "plot_confusion_matrix(model, test.drop(\"NIVEL_MT\", 1), test[\"NIVEL_MT\"], cmap = \"mako\")"
   ]
  },
  {
   "cell_type": "markdown",
   "metadata": {},
   "source": [
    "### SVM"
   ]
  },
  {
   "cell_type": "code",
   "execution_count": null,
   "metadata": {},
   "outputs": [],
   "source": [
    "model = svm.SVC().fit(train.drop(\"NIVEL_MT\", 1), train[\"NIVEL_MT\"])\n",
    "predictions = model.predict(test.drop(\"NIVEL_MT\", 1))\n",
    "precision = precision_score(test[\"NIVEL_MT\"] , predictions, average = \"binary\")\n",
    "print(\"Precision: \" + str(precision))\n",
    "plot_confusion_matrix(model, test.drop(\"NIVEL_MT\", 1), test[\"NIVEL_MT\"], cmap = \"mako\")"
   ]
  }
 ],
 "metadata": {
  "kernelspec": {
   "display_name": "Python 3",
   "language": "python",
   "name": "python3"
  },
  "language_info": {
   "codemirror_mode": {
    "name": "ipython",
    "version": 3
   },
   "file_extension": ".py",
   "mimetype": "text/x-python",
   "name": "python",
   "nbconvert_exporter": "python",
   "pygments_lexer": "ipython3",
   "version": "3.8.3"
  }
 },
 "nbformat": 4,
 "nbformat_minor": 4
}
