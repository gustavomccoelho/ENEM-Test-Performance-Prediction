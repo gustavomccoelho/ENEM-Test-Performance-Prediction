{
 "cells": [
  {
   "cell_type": "code",
   "execution_count": null,
   "metadata": {},
   "outputs": [],
   "source": [
    "import pandas as pd\n",
    "import numpy as np\n",
    "from sklearn.model_selection import RandomizedSearchCV\n",
    "import xgboost as xgb\n",
    "from sklearn.ensemble import RandomForestClassifier\n",
    "from sklearn.model_selection import train_test_split\n",
    "from sklearn.metrics import precision_score\n",
    "from sklearn.metrics import recall_score\n",
    "from sklearn.metrics import plot_confusion_matrix\n",
    "import seaborn as sns\n",
    "import matplotlib.pyplot as plt\n",
    "from sklearn.inspection import permutation_importance\n",
    "import time\n",
    "from sklearn import tree\n",
    "from sklearn.tree import DecisionTreeClassifier"
   ]
  },
  {
   "cell_type": "markdown",
   "metadata": {},
   "source": [
    "### Loading data"
   ]
  },
  {
   "cell_type": "code",
   "execution_count": null,
   "metadata": {},
   "outputs": [],
   "source": [
    "data = pd.read_csv(\"../dataset/dataset_3.csv\", sep = \";\").drop(\"Unnamed: 0\", 1)\n",
    "data.describe()"
   ]
  },
  {
   "cell_type": "markdown",
   "metadata": {},
   "source": [
    "### Spliting train and test data"
   ]
  },
  {
   "cell_type": "code",
   "execution_count": null,
   "metadata": {},
   "outputs": [],
   "source": [
    "train, test = train_test_split(data, test_size=0.30)"
   ]
  },
  {
   "cell_type": "markdown",
   "metadata": {},
   "source": [
    "## XGBoost"
   ]
  },
  {
   "cell_type": "code",
   "execution_count": null,
   "metadata": {},
   "outputs": [],
   "source": [
    "model = xgb.XGBClassifier(n_jobs = -1).fit(train.drop([\"DESEMPENHO_BAIXO\"], 1), train[\"DESEMPENHO_BAIXO\"])\n",
    "predictions = model.predict(test.drop([\"DESEMPENHO_BAIXO\"], 1))\n",
    "precision = precision_score(test[\"DESEMPENHO_BAIXO\"] , predictions, average = \"micro\")\n",
    "recall = recall_score(test[\"DESEMPENHO_BAIXO\"] , predictions, average = \"binary\")\n",
    "print(\"Precision: \" + str(precision))\n",
    "print(\"Recall: \" + str(recall))\n",
    "plot_confusion_matrix(model, test.drop([\"DESEMPENHO_BAIXO\"], 1), test[\"DESEMPENHO_BAIXO\"], cmap = plt.cm.Blues)"
   ]
  },
  {
   "cell_type": "markdown",
   "metadata": {},
   "source": [
    "## Decision Tree Classifier"
   ]
  },
  {
   "cell_type": "code",
   "execution_count": null,
   "metadata": {},
   "outputs": [],
   "source": [
    "model = DecisionTreeClassifier().fit(train.drop(\"DESEMPENHO_BAIXO\", 1), train[\"DESEMPENHO_BAIXO\"])\n",
    "predictions = model.predict(test.drop([\"DESEMPENHO_BAIXO\"], 1))\n",
    "precision = precision_score(test[\"DESEMPENHO_BAIXO\"] , predictions, average = \"micro\")\n",
    "recall = recall_score(test[\"DESEMPENHO_BAIXO\"] , predictions, average = \"binary\")\n",
    "print(\"Precision: \" + str(precision))\n",
    "print(\"Recall: \" + str(recall))\n",
    "plot_confusion_matrix(model, test.drop([\"DESEMPENHO_BAIXO\"], 1), test[\"DESEMPENHO_BAIXO\"], cmap = plt.cm.Blues)"
   ]
  },
  {
   "cell_type": "markdown",
   "metadata": {},
   "source": [
    "### Finding the best parameters"
   ]
  },
  {
   "cell_type": "code",
   "execution_count": null,
   "metadata": {},
   "outputs": [],
   "source": [
    "random_grid = {'max_depth': [5, 8, 10, 12, 15, 20],\n",
    "               'min_samples_split': [2, 5, 10, 15, 20, 40],\n",
    "               'min_samples_leaf': [1, 5, 10, 15, 20, 30, 40, 60, 80],\n",
    "                }\n",
    "\n",
    "rf = DecisionTreeClassifier()\n",
    "rf_random = RandomizedSearchCV(estimator = rf, param_distributions = random_grid, n_iter = 50, cv = 3, \n",
    "                               random_state=42, n_jobs = -1)\n",
    "rf_random.fit(train.drop(\"DESEMPENHO_BAIXO\", 1), train[\"DESEMPENHO_BAIXO\"])\n",
    "rf_random.best_params_"
   ]
  },
  {
   "cell_type": "code",
   "execution_count": null,
   "metadata": {},
   "outputs": [],
   "source": [
    "model = DecisionTreeClassifier(max_depth = 12, min_samples_split = 40, min_samples_leaf = 60).fit(train.drop(\"DESEMPENHO_BAIXO\", 1), train[\"DESEMPENHO_BAIXO\"])\n",
    "predictions = model.predict(test.drop([\"DESEMPENHO_BAIXO\"], 1))\n",
    "precision = precision_score(test[\"DESEMPENHO_BAIXO\"] , predictions, average = \"micro\")\n",
    "recall = recall_score(test[\"DESEMPENHO_BAIXO\"] , predictions, average = \"binary\")\n",
    "print(\"Precision: \" + str(precision))\n",
    "print(\"Recall: \" + str(recall))\n",
    "plot_confusion_matrix(model, test.drop([\"DESEMPENHO_BAIXO\"], 1), test[\"DESEMPENHO_BAIXO\"], cmap = plt.cm.Blues)"
   ]
  },
  {
   "cell_type": "code",
   "execution_count": null,
   "metadata": {},
   "outputs": [],
   "source": [
    "path=DecisionTreeClassifier().cost_complexity_pruning_path(train.drop(\"DESEMPENHO_BAIXO\", 1), train[\"DESEMPENHO_BAIXO\"])\n",
    "ccp_alphas, impurities = path.ccp_alphas, path.impurities"
   ]
  },
  {
   "cell_type": "code",
   "execution_count": null,
   "metadata": {},
   "outputs": [],
   "source": [
    "fig, ax = plt.subplots()\n",
    "ax.plot(ccp_alphas[:-1], impurities[:-1], marker='o', drawstyle=\"steps-post\")\n",
    "ax.set_xlabel(\"effective alpha\")\n",
    "ax.set_ylabel(\"total impurity of leaves\")\n",
    "ax.set_title(\"Total Impurity vs effective alpha for training set\")"
   ]
  },
  {
   "cell_type": "code",
   "execution_count": null,
   "metadata": {},
   "outputs": [],
   "source": []
  },
  {
   "cell_type": "code",
   "execution_count": null,
   "metadata": {},
   "outputs": [],
   "source": []
  },
  {
   "cell_type": "code",
   "execution_count": null,
   "metadata": {},
   "outputs": [],
   "source": []
  },
  {
   "cell_type": "code",
   "execution_count": null,
   "metadata": {
    "scrolled": false
   },
   "outputs": [],
   "source": [
    "plt.figure(figsize=(100,50))\n",
    "tree.plot_tree(model, feature_names=data.columns, class_names= [\"Abaixo_da_Media\", \"Acima_da_Media\"],\n",
    "                filled=True)"
   ]
  },
  {
   "cell_type": "markdown",
   "metadata": {},
   "source": [
    "## Saving data"
   ]
  },
  {
   "cell_type": "code",
   "execution_count": null,
   "metadata": {},
   "outputs": [],
   "source": [
    "data.to_csv(\"../dataset/dataset_4.csv\", sep = \";\")"
   ]
  }
 ],
 "metadata": {
  "kernelspec": {
   "display_name": "Python 3",
   "language": "python",
   "name": "python3"
  },
  "language_info": {
   "codemirror_mode": {
    "name": "ipython",
    "version": 3
   },
   "file_extension": ".py",
   "mimetype": "text/x-python",
   "name": "python",
   "nbconvert_exporter": "python",
   "pygments_lexer": "ipython3",
   "version": "3.8.3"
  }
 },
 "nbformat": 4,
 "nbformat_minor": 4
}
