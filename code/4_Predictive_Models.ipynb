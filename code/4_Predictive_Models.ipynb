{
 "cells": [
  {
   "cell_type": "code",
   "execution_count": 2,
   "metadata": {},
   "outputs": [],
   "source": [
    "import pandas as pd\n",
    "import numpy as np\n",
    "from sklearn.model_selection import GridSearchCV\n",
    "import xgboost as xgb\n",
    "from sklearn.model_selection import train_test_split\n",
    "from sklearn.metrics import precision_score\n",
    "from sklearn.metrics import recall_score\n",
    "from sklearn.metrics import plot_confusion_matrix\n",
    "import seaborn as sns\n",
    "import matplotlib.pyplot as plt\n",
    "from sklearn import tree\n",
    "from sklearn.tree import DecisionTreeClassifier\n",
    "from sklearn.ensemble import RandomForestClassifier\n",
    "from sklearn.decomposition import PCA\n",
    "from sklearn.cluster import KMeans\n",
    "import warnings\n",
    "warnings.filterwarnings('ignore')\n",
    "color = \"#2E3037\"\n",
    "background_color = \"Dark\" # Dark or White"
   ]
  },
  {
   "cell_type": "markdown",
   "metadata": {},
   "source": [
    "## Loading data"
   ]
  },
  {
   "cell_type": "code",
   "execution_count": 3,
   "metadata": {},
   "outputs": [
    {
     "data": {
      "text/html": [
       "<div>\n",
       "<style scoped>\n",
       "    .dataframe tbody tr th:only-of-type {\n",
       "        vertical-align: middle;\n",
       "    }\n",
       "\n",
       "    .dataframe tbody tr th {\n",
       "        vertical-align: top;\n",
       "    }\n",
       "\n",
       "    .dataframe thead th {\n",
       "        text-align: right;\n",
       "    }\n",
       "</style>\n",
       "<table border=\"1\" class=\"dataframe\">\n",
       "  <thead>\n",
       "    <tr style=\"text-align: right;\">\n",
       "      <th></th>\n",
       "      <th>NU_IDADE</th>\n",
       "      <th>TP_SEXO</th>\n",
       "      <th>TP_COR_RACA</th>\n",
       "      <th>TP_ANO_CONCLUIU</th>\n",
       "      <th>TP_ESCOLA</th>\n",
       "      <th>TP_LINGUA</th>\n",
       "      <th>SG_UF_RESIDENCIA</th>\n",
       "      <th>TP_ST_CONCLUSAO</th>\n",
       "      <th>Escolaridade_Pai</th>\n",
       "      <th>Escolaridade_Mae</th>\n",
       "      <th>Ocupacao_Pai</th>\n",
       "      <th>Renda_Mensal</th>\n",
       "      <th>Renda_per_capta</th>\n",
       "      <th>Computador_por_pessoa</th>\n",
       "      <th>Celulares_por_pessoa</th>\n",
       "    </tr>\n",
       "  </thead>\n",
       "  <tbody>\n",
       "    <tr>\n",
       "      <th>count</th>\n",
       "      <td>3.174308e+06</td>\n",
       "      <td>3.174308e+06</td>\n",
       "      <td>3.174308e+06</td>\n",
       "      <td>3.174308e+06</td>\n",
       "      <td>3.174308e+06</td>\n",
       "      <td>3.174308e+06</td>\n",
       "      <td>3.174308e+06</td>\n",
       "      <td>3.174308e+06</td>\n",
       "      <td>3.174308e+06</td>\n",
       "      <td>3.174308e+06</td>\n",
       "      <td>3.174308e+06</td>\n",
       "      <td>3.174308e+06</td>\n",
       "      <td>3.174308e+06</td>\n",
       "      <td>3.174308e+06</td>\n",
       "      <td>3.174308e+06</td>\n",
       "    </tr>\n",
       "    <tr>\n",
       "      <th>mean</th>\n",
       "      <td>1.038642e-03</td>\n",
       "      <td>-1.379273e-04</td>\n",
       "      <td>-2.337789e-03</td>\n",
       "      <td>3.386821e-06</td>\n",
       "      <td>-2.425244e-02</td>\n",
       "      <td>-9.367279e-04</td>\n",
       "      <td>1.952823e-03</td>\n",
       "      <td>8.082849e-05</td>\n",
       "      <td>-1.779899e-02</td>\n",
       "      <td>-7.818498e-03</td>\n",
       "      <td>-2.259718e-02</td>\n",
       "      <td>-4.885861e-02</td>\n",
       "      <td>8.362171e+02</td>\n",
       "      <td>2.075064e-01</td>\n",
       "      <td>6.735228e-01</td>\n",
       "    </tr>\n",
       "    <tr>\n",
       "      <th>std</th>\n",
       "      <td>2.667147e-01</td>\n",
       "      <td>1.659481e-01</td>\n",
       "      <td>3.946580e-01</td>\n",
       "      <td>5.908589e-02</td>\n",
       "      <td>4.916430e-01</td>\n",
       "      <td>4.703076e-01</td>\n",
       "      <td>3.811280e-01</td>\n",
       "      <td>4.039205e-02</td>\n",
       "      <td>6.772674e-01</td>\n",
       "      <td>6.503605e-01</td>\n",
       "      <td>7.001105e-01</td>\n",
       "      <td>9.171282e-01</td>\n",
       "      <td>1.254462e+03</td>\n",
       "      <td>2.534051e-01</td>\n",
       "      <td>3.109964e-01</td>\n",
       "    </tr>\n",
       "    <tr>\n",
       "      <th>min</th>\n",
       "      <td>-4.055080e-01</td>\n",
       "      <td>-1.988856e-01</td>\n",
       "      <td>-5.230838e-01</td>\n",
       "      <td>-8.809104e-02</td>\n",
       "      <td>-1.824682e+00</td>\n",
       "      <td>-4.971218e-01</td>\n",
       "      <td>-4.146910e-01</td>\n",
       "      <td>-1.584228e-02</td>\n",
       "      <td>-1.707128e+00</td>\n",
       "      <td>-1.265097e+00</td>\n",
       "      <td>-1.819720e+00</td>\n",
       "      <td>-2.971101e+00</td>\n",
       "      <td>0.000000e+00</td>\n",
       "      <td>0.000000e+00</td>\n",
       "      <td>0.000000e+00</td>\n",
       "    </tr>\n",
       "    <tr>\n",
       "      <th>25%</th>\n",
       "      <td>-1.623837e-01</td>\n",
       "      <td>-1.988856e-01</td>\n",
       "      <td>-5.230838e-01</td>\n",
       "      <td>-4.679373e-02</td>\n",
       "      <td>9.853229e-03</td>\n",
       "      <td>-4.971218e-01</td>\n",
       "      <td>-3.420107e-01</td>\n",
       "      <td>-1.584228e-02</td>\n",
       "      <td>-3.922961e-01</td>\n",
       "      <td>-2.124262e-01</td>\n",
       "      <td>-3.415952e-02</td>\n",
       "      <td>-6.658565e-01</td>\n",
       "      <td>2.994000e+02</td>\n",
       "      <td>0.000000e+00</td>\n",
       "      <td>5.000000e-01</td>\n",
       "    </tr>\n",
       "    <tr>\n",
       "      <th>50%</th>\n",
       "      <td>-1.845375e-02</td>\n",
       "      <td>1.384236e-01</td>\n",
       "      <td>2.793551e-01</td>\n",
       "      <td>2.340675e-02</td>\n",
       "      <td>9.853229e-03</td>\n",
       "      <td>4.448430e-01</td>\n",
       "      <td>-1.470738e-02</td>\n",
       "      <td>6.392830e-03</td>\n",
       "      <td>2.036856e-01</td>\n",
       "      <td>-2.124262e-01</td>\n",
       "      <td>2.120150e-01</td>\n",
       "      <td>3.122772e-01</td>\n",
       "      <td>4.990000e+02</td>\n",
       "      <td>2.000000e-01</td>\n",
       "      <td>6.666667e-01</td>\n",
       "    </tr>\n",
       "    <tr>\n",
       "      <th>75%</th>\n",
       "      <td>1.669237e-01</td>\n",
       "      <td>1.384236e-01</td>\n",
       "      <td>2.793551e-01</td>\n",
       "      <td>2.340675e-02</td>\n",
       "      <td>2.792401e-01</td>\n",
       "      <td>4.448430e-01</td>\n",
       "      <td>3.108230e-01</td>\n",
       "      <td>6.392830e-03</td>\n",
       "      <td>5.818676e-01</td>\n",
       "      <td>3.761003e-01</td>\n",
       "      <td>2.873361e-01</td>\n",
       "      <td>8.320185e-01</td>\n",
       "      <td>8.316667e+02</td>\n",
       "      <td>3.333333e-01</td>\n",
       "      <td>1.000000e+00</td>\n",
       "    </tr>\n",
       "    <tr>\n",
       "      <th>max</th>\n",
       "      <td>1.945867e+00</td>\n",
       "      <td>1.384236e-01</td>\n",
       "      <td>9.992840e-01</td>\n",
       "      <td>1.309356e-01</td>\n",
       "      <td>2.792401e-01</td>\n",
       "      <td>4.448430e-01</td>\n",
       "      <td>7.673745e-01</td>\n",
       "      <td>6.757275e-01</td>\n",
       "      <td>1.107397e+00</td>\n",
       "      <td>1.249667e+00</td>\n",
       "      <td>8.045838e-01</td>\n",
       "      <td>1.098417e+00</td>\n",
       "      <td>3.000000e+04</td>\n",
       "      <td>4.000000e+00</td>\n",
       "      <td>4.000000e+00</td>\n",
       "    </tr>\n",
       "  </tbody>\n",
       "</table>\n",
       "</div>"
      ],
      "text/plain": [
       "           NU_IDADE       TP_SEXO   TP_COR_RACA  TP_ANO_CONCLUIU  \\\n",
       "count  3.174308e+06  3.174308e+06  3.174308e+06     3.174308e+06   \n",
       "mean   1.038642e-03 -1.379273e-04 -2.337789e-03     3.386821e-06   \n",
       "std    2.667147e-01  1.659481e-01  3.946580e-01     5.908589e-02   \n",
       "min   -4.055080e-01 -1.988856e-01 -5.230838e-01    -8.809104e-02   \n",
       "25%   -1.623837e-01 -1.988856e-01 -5.230838e-01    -4.679373e-02   \n",
       "50%   -1.845375e-02  1.384236e-01  2.793551e-01     2.340675e-02   \n",
       "75%    1.669237e-01  1.384236e-01  2.793551e-01     2.340675e-02   \n",
       "max    1.945867e+00  1.384236e-01  9.992840e-01     1.309356e-01   \n",
       "\n",
       "          TP_ESCOLA     TP_LINGUA  SG_UF_RESIDENCIA  TP_ST_CONCLUSAO  \\\n",
       "count  3.174308e+06  3.174308e+06      3.174308e+06     3.174308e+06   \n",
       "mean  -2.425244e-02 -9.367279e-04      1.952823e-03     8.082849e-05   \n",
       "std    4.916430e-01  4.703076e-01      3.811280e-01     4.039205e-02   \n",
       "min   -1.824682e+00 -4.971218e-01     -4.146910e-01    -1.584228e-02   \n",
       "25%    9.853229e-03 -4.971218e-01     -3.420107e-01    -1.584228e-02   \n",
       "50%    9.853229e-03  4.448430e-01     -1.470738e-02     6.392830e-03   \n",
       "75%    2.792401e-01  4.448430e-01      3.108230e-01     6.392830e-03   \n",
       "max    2.792401e-01  4.448430e-01      7.673745e-01     6.757275e-01   \n",
       "\n",
       "       Escolaridade_Pai  Escolaridade_Mae  Ocupacao_Pai  Renda_Mensal  \\\n",
       "count      3.174308e+06      3.174308e+06  3.174308e+06  3.174308e+06   \n",
       "mean      -1.779899e-02     -7.818498e-03 -2.259718e-02 -4.885861e-02   \n",
       "std        6.772674e-01      6.503605e-01  7.001105e-01  9.171282e-01   \n",
       "min       -1.707128e+00     -1.265097e+00 -1.819720e+00 -2.971101e+00   \n",
       "25%       -3.922961e-01     -2.124262e-01 -3.415952e-02 -6.658565e-01   \n",
       "50%        2.036856e-01     -2.124262e-01  2.120150e-01  3.122772e-01   \n",
       "75%        5.818676e-01      3.761003e-01  2.873361e-01  8.320185e-01   \n",
       "max        1.107397e+00      1.249667e+00  8.045838e-01  1.098417e+00   \n",
       "\n",
       "       Renda_per_capta  Computador_por_pessoa  Celulares_por_pessoa  \n",
       "count     3.174308e+06           3.174308e+06          3.174308e+06  \n",
       "mean      8.362171e+02           2.075064e-01          6.735228e-01  \n",
       "std       1.254462e+03           2.534051e-01          3.109964e-01  \n",
       "min       0.000000e+00           0.000000e+00          0.000000e+00  \n",
       "25%       2.994000e+02           0.000000e+00          5.000000e-01  \n",
       "50%       4.990000e+02           2.000000e-01          6.666667e-01  \n",
       "75%       8.316667e+02           3.333333e-01          1.000000e+00  \n",
       "max       3.000000e+04           4.000000e+00          4.000000e+00  "
      ]
     },
     "execution_count": 3,
     "metadata": {},
     "output_type": "execute_result"
    }
   ],
   "source": [
    "data = pd.read_csv(\"../dataset/dataset_3.csv\", sep = \";\").drop(\"Unnamed: 0\", 1)\n",
    "train, test = train_test_split(data, test_size=0.30)\n",
    "data.describe()"
   ]
  },
  {
   "cell_type": "markdown",
   "metadata": {},
   "source": [
    "## Finding the best model"
   ]
  },
  {
   "cell_type": "markdown",
   "metadata": {},
   "source": [
    "### XGBoost"
   ]
  },
  {
   "cell_type": "code",
   "execution_count": 4,
   "metadata": {},
   "outputs": [
    {
     "name": "stdout",
     "output_type": "stream",
     "text": [
      "Precision: 70.43%\n",
      "Recall: 74.43%\n"
     ]
    },
    {
     "data": {
      "text/plain": [
       "<sklearn.metrics._plot.confusion_matrix.ConfusionMatrixDisplay at 0x1f65fe738d0>"
      ]
     },
     "execution_count": 4,
     "metadata": {},
     "output_type": "execute_result"
    },
    {
     "data": {
      "image/png": "[encoded data removed]",
      "text/plain": [
       "<Figure size 432x288 with 2 Axes>"
      ]
     },
     "metadata": {},
     "output_type": "display_data"
    }
   ],
   "source": [
    "model = xgb.XGBClassifier(n_jobs = -1).fit(train.drop([\"DESEMPENHO_BAIXO\"], 1), train[\"DESEMPENHO_BAIXO\"])\n",
    "predictions = model.predict(test.drop([\"DESEMPENHO_BAIXO\"], 1))\n",
    "\n",
    "precision = round(precision_score(test[\"DESEMPENHO_BAIXO\"] , predictions, average = \"binary\")*100, 2)\n",
    "recall = round(recall_score(test[\"DESEMPENHO_BAIXO\"] , predictions, average = \"binary\")*100, 2)\n",
    "\n",
    "print(\"Precision: \" + str(precision) + \"%\")\n",
    "print(\"Recall: \" + str(recall) + \"%\")\n",
    "\n",
    "if background_color == \"White\":\n",
    "    plt.style.use(\"default\")\n",
    "\n",
    "else:\n",
    "    plt.style.use('dark_background')\n",
    "\n",
    "plot_confusion_matrix(model, test.drop([\"DESEMPENHO_BAIXO\"], 1), test[\"DESEMPENHO_BAIXO\"], cmap = plt.cm.Blues,\n",
    "                      values_format = \"d\")"
   ]
  },
  {
   "cell_type": "markdown",
   "metadata": {},
   "source": [
    "### Decision Tree Classifier"
   ]
  },
  {
   "cell_type": "code",
   "execution_count": 5,
   "metadata": {},
   "outputs": [
    {
     "name": "stdout",
     "output_type": "stream",
     "text": [
      "Precision: 62.25000000000001%\n",
      "Recall: 60.56%\n"
     ]
    },
    {
     "data": {
      "text/plain": [
       "<sklearn.metrics._plot.confusion_matrix.ConfusionMatrixDisplay at 0x1f65fe6ceb8>"
      ]
     },
     "execution_count": 5,
     "metadata": {},
     "output_type": "execute_result"
    },
    {
     "data": {
      "image/png": "[encoded data removed]",
      "text/plain": [
       "<Figure size 432x288 with 2 Axes>"
      ]
     },
     "metadata": {},
     "output_type": "display_data"
    }
   ],
   "source": [
    "model = DecisionTreeClassifier().fit(train.drop(\"DESEMPENHO_BAIXO\", 1), train[\"DESEMPENHO_BAIXO\"])\n",
    "predictions = model.predict(test.drop([\"DESEMPENHO_BAIXO\"], 1))\n",
    "\n",
    "precision = round(precision_score(test[\"DESEMPENHO_BAIXO\"] , predictions, average = \"binary\"), 4)\n",
    "recall = round(recall_score(test[\"DESEMPENHO_BAIXO\"] , predictions, average = \"binary\"), 4)\n",
    "\n",
    "print(\"Precision: \" + str(precision*100) + \"%\")\n",
    "print(\"Recall: \" + str(recall*100) + \"%\")\n",
    "\n",
    "if background_color == \"White\":\n",
    "    plt.style.use(\"default\")\n",
    "\n",
    "else:\n",
    "    plt.style.use('dark_background')\n",
    "\n",
    "plot_confusion_matrix(model, test.drop([\"DESEMPENHO_BAIXO\"], 1), test[\"DESEMPENHO_BAIXO\"], cmap = plt.cm.Blues, \n",
    "                      values_format = \"d\")"
   ]
  },
  {
   "cell_type": "markdown",
   "metadata": {},
   "source": [
    "### Random Forest Classifier"
   ]
  },
  {
   "cell_type": "code",
   "execution_count": 7,
   "metadata": {},
   "outputs": [
    {
     "name": "stdout",
     "output_type": "stream",
     "text": [
      "Precision: 68.15%\n",
      "Recall: 70.25%\n"
     ]
    },
    {
     "data": {
      "text/plain": [
       "<sklearn.metrics._plot.confusion_matrix.ConfusionMatrixDisplay at 0x1f616cc0e48>"
      ]
     },
     "execution_count": 7,
     "metadata": {},
     "output_type": "execute_result"
    },
    {
     "data": {
      "image/png": "[encoded data removed]",
      "text/plain": [
       "<Figure size 432x288 with 2 Axes>"
      ]
     },
     "metadata": {},
     "output_type": "display_data"
    }
   ],
   "source": [
    "model = RandomForestClassifier().fit(train.drop(\"DESEMPENHO_BAIXO\", 1), train[\"DESEMPENHO_BAIXO\"])\n",
    "predictions = model.predict(test.drop([\"DESEMPENHO_BAIXO\"], 1))\n",
    "\n",
    "precision = round(precision_score(test[\"DESEMPENHO_BAIXO\"] , predictions, average = \"binary\"), 4)\n",
    "recall = round(recall_score(test[\"DESEMPENHO_BAIXO\"] , predictions, average = \"binary\"), 4)\n",
    "\n",
    "print(\"Precision: \" + str(precision*100) + \"%\")\n",
    "print(\"Recall: \" + str(recall*100) + \"%\")\n",
    "\n",
    "if background_color == \"White\":\n",
    "    plt.style.use(\"default\")\n",
    "\n",
    "else:\n",
    "    plt.style.use('dark_background')\n",
    "\n",
    "plot_confusion_matrix(model, test.drop([\"DESEMPENHO_BAIXO\"], 1), test[\"DESEMPENHO_BAIXO\"], cmap = plt.cm.Blues, \n",
    "                      values_format = \"d\")"
   ]
  },
  {
   "cell_type": "markdown",
   "metadata": {},
   "source": [
    "### Storing the predictions for entire dataset"
   ]
  },
  {
   "cell_type": "code",
   "execution_count": null,
   "metadata": {},
   "outputs": [],
   "source": [
    "predictions = model.predict(data.drop([\"DESEMPENHO_BAIXO\"], 1))\n",
    "data[\"Previsao\"] = predictions\n",
    "\n",
    "def mapea_acertou(data):\n",
    "    if data[\"Previsao\"] == 0 and data[\"DESEMPENHO_BAIXO\"] == 0: return 1\n",
    "    if data[\"Previsao\"] == 1 and data[\"DESEMPENHO_BAIXO\"] == 1: return 1\n",
    "    else: return 0\n",
    "\n",
    "data[\"Acertou\"] = data.apply(mapea_acertou, 1)"
   ]
  },
  {
   "cell_type": "markdown",
   "metadata": {},
   "source": [
    "## Saving data"
   ]
  },
  {
   "cell_type": "code",
   "execution_count": null,
   "metadata": {},
   "outputs": [],
   "source": [
    "data.to_csv(\"../dataset/dataset_4.csv\", sep = \";\")"
   ]
  }
 ],
 "metadata": {
  "kernelspec": {
   "display_name": "Python 3",
   "language": "python",
   "name": "python3"
  },
  "language_info": {
   "codemirror_mode": {
    "name": "ipython",
    "version": 3
   },
   "file_extension": ".py",
   "mimetype": "text/x-python",
   "name": "python",
   "nbconvert_exporter": "python",
   "pygments_lexer": "ipython3",
   "version": "3.7.1"
  }
 },
 "nbformat": 4,
 "nbformat_minor": 4
}
