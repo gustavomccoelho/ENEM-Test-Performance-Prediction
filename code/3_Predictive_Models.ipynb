{
 "cells": [
  {
   "cell_type": "code",
   "execution_count": null,
   "metadata": {},
   "outputs": [],
   "source": []
  },
  {
   "cell_type": "code",
   "execution_count": null,
   "metadata": {},
   "outputs": [],
   "source": [
    "rmse_list = []\n",
    "r2_list = []\n",
    "\n",
    "for N in range(1,7):\n",
    "    variables = [col for col in mi_importance[0:N]]\n",
    "    variables.append(\"NU_NOTA_MT\")\n",
    "    train, test = train_test_split(data[variables], test_size = 0.3)\n",
    "    model = neighbors.KNeighborsRegressor(n_neighbors = 7, n_jobs = -1).fit(train.drop(\"NU_NOTA_MT\", 1), train[\"NU_NOTA_MT\"])\n",
    "    predictions = model.predict(test.drop(\"NU_NOTA_MT\", 1))\n",
    "    r2 = r2_score(test[\"NU_NOTA_MT\"], predictions)\n",
    "    rmse = np.sqrt(mean_squared_error(test[\"NU_NOTA_MT\"], predictions))\n",
    "    r2_list.append(r2)\n",
    "    rmse_list.append(rmse)\n",
    "    print(\"R2 Score for \" + str(N) + \" variables: \" + str(r2))\n",
    "    print(\"Mean Squared Error for \" + str(N) + \" variables: \" + str(rmse))"
   ]
  }
 ],
 "metadata": {
  "kernelspec": {
   "display_name": "Python 3",
   "language": "python",
   "name": "python3"
  },
  "language_info": {
   "codemirror_mode": {
    "name": "ipython",
    "version": 3
   },
   "file_extension": ".py",
   "mimetype": "text/x-python",
   "name": "python",
   "nbconvert_exporter": "python",
   "pygments_lexer": "ipython3",
   "version": "3.8.3"
  }
 },
 "nbformat": 4,
 "nbformat_minor": 4
}
