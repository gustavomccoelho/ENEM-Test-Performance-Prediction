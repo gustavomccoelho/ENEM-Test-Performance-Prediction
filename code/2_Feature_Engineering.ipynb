{
 "cells": [
  {
   "cell_type": "code",
   "execution_count": 1,
   "metadata": {},
   "outputs": [],
   "source": [
    "import pandas as pd\n",
    "import numpy as np\n",
    "from scipy import stats\n",
    "from sklearn.ensemble import RandomForestRegressor\n",
    "import seaborn as sns\n",
    "import matplotlib.pyplot as plt\n",
    "import warnings\n",
    "warnings.filterwarnings('ignore')"
   ]
  },
  {
   "cell_type": "code",
   "execution_count": 2,
   "metadata": {},
   "outputs": [
    {
     "data": {
      "text/html": [
       "<div>\n",
       "<style scoped>\n",
       "    .dataframe tbody tr th:only-of-type {\n",
       "        vertical-align: middle;\n",
       "    }\n",
       "\n",
       "    .dataframe tbody tr th {\n",
       "        vertical-align: top;\n",
       "    }\n",
       "\n",
       "    .dataframe thead th {\n",
       "        text-align: right;\n",
       "    }\n",
       "</style>\n",
       "<table border=\"1\" class=\"dataframe\">\n",
       "  <thead>\n",
       "    <tr style=\"text-align: right;\">\n",
       "      <th></th>\n",
       "      <th>NU_IDADE</th>\n",
       "      <th>TP_ESTADO_CIVIL</th>\n",
       "      <th>TP_COR_RACA</th>\n",
       "      <th>TP_ST_CONCLUSAO</th>\n",
       "      <th>TP_ANO_CONCLUIU</th>\n",
       "      <th>TP_ESCOLA</th>\n",
       "      <th>TP_LINGUA</th>\n",
       "      <th>Pessoas_Residencia</th>\n",
       "    </tr>\n",
       "  </thead>\n",
       "  <tbody>\n",
       "    <tr>\n",
       "      <th>count</th>\n",
       "      <td>3.168898e+06</td>\n",
       "      <td>3.168898e+06</td>\n",
       "      <td>3.168898e+06</td>\n",
       "      <td>3.168898e+06</td>\n",
       "      <td>3.168898e+06</td>\n",
       "      <td>3.168898e+06</td>\n",
       "      <td>3.168898e+06</td>\n",
       "      <td>3.168898e+06</td>\n",
       "    </tr>\n",
       "    <tr>\n",
       "      <th>mean</th>\n",
       "      <td>2.197094e+01</td>\n",
       "      <td>1.068572e+00</td>\n",
       "      <td>2.139669e+00</td>\n",
       "      <td>1.389569e+00</td>\n",
       "      <td>2.869310e+00</td>\n",
       "      <td>1.449150e+00</td>\n",
       "      <td>5.271628e-01</td>\n",
       "      <td>3.894223e+00</td>\n",
       "    </tr>\n",
       "    <tr>\n",
       "      <th>std</th>\n",
       "      <td>7.183446e+00</td>\n",
       "      <td>4.164400e-01</td>\n",
       "      <td>1.012008e+00</td>\n",
       "      <td>4.992919e-01</td>\n",
       "      <td>3.971679e+00</td>\n",
       "      <td>6.148688e-01</td>\n",
       "      <td>4.992617e-01</td>\n",
       "      <td>1.474267e+00</td>\n",
       "    </tr>\n",
       "    <tr>\n",
       "      <th>min</th>\n",
       "      <td>1.600000e+01</td>\n",
       "      <td>0.000000e+00</td>\n",
       "      <td>0.000000e+00</td>\n",
       "      <td>1.000000e+00</td>\n",
       "      <td>0.000000e+00</td>\n",
       "      <td>1.000000e+00</td>\n",
       "      <td>0.000000e+00</td>\n",
       "      <td>1.000000e+00</td>\n",
       "    </tr>\n",
       "    <tr>\n",
       "      <th>25%</th>\n",
       "      <td>1.800000e+01</td>\n",
       "      <td>1.000000e+00</td>\n",
       "      <td>1.000000e+00</td>\n",
       "      <td>1.000000e+00</td>\n",
       "      <td>0.000000e+00</td>\n",
       "      <td>1.000000e+00</td>\n",
       "      <td>0.000000e+00</td>\n",
       "      <td>3.000000e+00</td>\n",
       "    </tr>\n",
       "    <tr>\n",
       "      <th>50%</th>\n",
       "      <td>1.900000e+01</td>\n",
       "      <td>1.000000e+00</td>\n",
       "      <td>2.000000e+00</td>\n",
       "      <td>1.000000e+00</td>\n",
       "      <td>1.000000e+00</td>\n",
       "      <td>1.000000e+00</td>\n",
       "      <td>1.000000e+00</td>\n",
       "      <td>4.000000e+00</td>\n",
       "    </tr>\n",
       "    <tr>\n",
       "      <th>75%</th>\n",
       "      <td>2.300000e+01</td>\n",
       "      <td>1.000000e+00</td>\n",
       "      <td>3.000000e+00</td>\n",
       "      <td>2.000000e+00</td>\n",
       "      <td>4.000000e+00</td>\n",
       "      <td>2.000000e+00</td>\n",
       "      <td>1.000000e+00</td>\n",
       "      <td>5.000000e+00</td>\n",
       "    </tr>\n",
       "    <tr>\n",
       "      <th>max</th>\n",
       "      <td>9.200000e+01</td>\n",
       "      <td>4.000000e+00</td>\n",
       "      <td>5.000000e+00</td>\n",
       "      <td>4.000000e+00</td>\n",
       "      <td>1.300000e+01</td>\n",
       "      <td>3.000000e+00</td>\n",
       "      <td>1.000000e+00</td>\n",
       "      <td>2.000000e+01</td>\n",
       "    </tr>\n",
       "  </tbody>\n",
       "</table>\n",
       "</div>"
      ],
      "text/plain": [
       "           NU_IDADE  TP_ESTADO_CIVIL   TP_COR_RACA  TP_ST_CONCLUSAO  \\\n",
       "count  3.168898e+06     3.168898e+06  3.168898e+06     3.168898e+06   \n",
       "mean   2.197094e+01     1.068572e+00  2.139669e+00     1.389569e+00   \n",
       "std    7.183446e+00     4.164400e-01  1.012008e+00     4.992919e-01   \n",
       "min    1.600000e+01     0.000000e+00  0.000000e+00     1.000000e+00   \n",
       "25%    1.800000e+01     1.000000e+00  1.000000e+00     1.000000e+00   \n",
       "50%    1.900000e+01     1.000000e+00  2.000000e+00     1.000000e+00   \n",
       "75%    2.300000e+01     1.000000e+00  3.000000e+00     2.000000e+00   \n",
       "max    9.200000e+01     4.000000e+00  5.000000e+00     4.000000e+00   \n",
       "\n",
       "       TP_ANO_CONCLUIU     TP_ESCOLA     TP_LINGUA  Pessoas_Residencia  \n",
       "count     3.168898e+06  3.168898e+06  3.168898e+06        3.168898e+06  \n",
       "mean      2.869310e+00  1.449150e+00  5.271628e-01        3.894223e+00  \n",
       "std       3.971679e+00  6.148688e-01  4.992617e-01        1.474267e+00  \n",
       "min       0.000000e+00  1.000000e+00  0.000000e+00        1.000000e+00  \n",
       "25%       0.000000e+00  1.000000e+00  0.000000e+00        3.000000e+00  \n",
       "50%       1.000000e+00  1.000000e+00  1.000000e+00        4.000000e+00  \n",
       "75%       4.000000e+00  2.000000e+00  1.000000e+00        5.000000e+00  \n",
       "max       1.300000e+01  3.000000e+00  1.000000e+00        2.000000e+01  "
      ]
     },
     "execution_count": 2,
     "metadata": {},
     "output_type": "execute_result"
    }
   ],
   "source": [
    "data = pd.read_csv(\"../dataset/dataset_1.csv\", sep = \";\").drop(\"Unnamed: 0\", 1)\n",
    "data.describe()"
   ]
  },
  {
   "cell_type": "markdown",
   "metadata": {},
   "source": [
    "### Creating variables"
   ]
  },
  {
   "cell_type": "markdown",
   "metadata": {},
   "source": [
    "#### House Income per capita"
   ]
  },
  {
   "cell_type": "code",
   "execution_count": 3,
   "metadata": {},
   "outputs": [],
   "source": [
    "def mapea_per_capta(data):\n",
    "    renda = data[\"Renda_Mensal\"]\n",
    "    capta = data[\"Pessoas_Residencia\"]\n",
    "    if renda == \"A\":\n",
    "        return 0\n",
    "    if renda == \"B\":\n",
    "        return 998/capta    \n",
    "    if renda == \"C\":\n",
    "        return 1497/capta\n",
    "    if renda == \"D\":\n",
    "        return 1996/capta  \n",
    "    if renda == \"E\":\n",
    "        return 2495/capta  \n",
    "    if renda == \"F\":\n",
    "        return 2994/capta   \n",
    "    if renda == \"G\":\n",
    "        return 3992/capta\n",
    "    if renda == \"H\":\n",
    "        return 4990/capta \n",
    "    if renda == \"I\":\n",
    "        return 5988/capta\n",
    "    if renda == \"J\":\n",
    "        return 6986/capta  \n",
    "    if renda == \"K\":\n",
    "        return 7984/capta  \n",
    "    if renda == \"L\":\n",
    "        return 8982/capta  \n",
    "    if renda == \"M\":\n",
    "        return 9980/capta\n",
    "    if renda == \"N\":\n",
    "        return 11976/capta \n",
    "    if renda == \"O\":\n",
    "        return 14970/capta\n",
    "    if renda == \"P\":\n",
    "        return 19960/capta\n",
    "    if renda == \"Q\":\n",
    "        return 30000/capta \n",
    "    \n",
    "data[\"Renda_per_capta\"] = data.apply(mapea_per_capta, 1)"
   ]
  },
  {
   "cell_type": "markdown",
   "metadata": {},
   "source": [
    "#### People per room"
   ]
  },
  {
   "cell_type": "code",
   "execution_count": 5,
   "metadata": {},
   "outputs": [],
   "source": [
    "def mapea_pessoas_por_quarto(data):\n",
    "    if data[\"Quartos\"] == \"A\":\n",
    "        return 0\n",
    "    if data[\"Quartos\"] == \"B\":\n",
    "        return data[\"Pessoas_Residencia\"]\n",
    "    if data[\"Quartos\"] == \"C\":\n",
    "        return data[\"Pessoas_Residencia\"]/2\n",
    "    if data[\"Quartos\"] == \"D\":\n",
    "        return data[\"Pessoas_Residencia\"]/3\n",
    "    if data[\"Quartos\"] == \"E\":\n",
    "        return data[\"Pessoas_Residencia\"]/4\n",
    "    \n",
    "data[\"Pessoas_por_quarto\"] = data.apply(mapea_pessoas_por_quarto, 1)"
   ]
  },
  {
   "cell_type": "markdown",
   "metadata": {},
   "source": [
    "#### Persons per computer"
   ]
  },
  {
   "cell_type": "code",
   "execution_count": 6,
   "metadata": {},
   "outputs": [],
   "source": [
    "def mapea_pessoas_por_computador(data):\n",
    "    if data[\"Computador\"] == \"A\":\n",
    "        return 0\n",
    "    if data[\"Computador\"] == \"B\":\n",
    "        return data[\"Pessoas_Residencia\"]\n",
    "    if data[\"Computador\"] == \"C\":\n",
    "        return data[\"Pessoas_Residencia\"]/2\n",
    "    if data[\"Computador\"] == \"D\":\n",
    "        return data[\"Pessoas_Residencia\"]/3\n",
    "    if data[\"Computador\"] == \"E\":\n",
    "        return data[\"Pessoas_Residencia\"]/4\n",
    "    \n",
    "data[\"Pessoas_por_computador\"] = data.apply(mapea_pessoas_por_computador, 1)"
   ]
  },
  {
   "cell_type": "markdown",
   "metadata": {},
   "source": [
    "#### Persons per cellphones"
   ]
  },
  {
   "cell_type": "code",
   "execution_count": 7,
   "metadata": {},
   "outputs": [],
   "source": [
    "def mapea_pessoas_por_celular(data):\n",
    "    if data[\"Celular\"] == \"A\":\n",
    "        return 0\n",
    "    if data[\"Celular\"] == \"B\":\n",
    "        return data[\"Pessoas_Residencia\"]\n",
    "    if data[\"Celular\"] == \"C\":\n",
    "        return data[\"Pessoas_Residencia\"]/2\n",
    "    if data[\"Celular\"] == \"D\":\n",
    "        return data[\"Pessoas_Residencia\"]/3\n",
    "    if data[\"Celular\"] == \"E\":\n",
    "        return data[\"Pessoas_Residencia\"]/4\n",
    "    \n",
    "data[\"Pessoas_por_celular\"] = data.apply(mapea_pessoas_por_celular, 1)"
   ]
  },
  {
   "cell_type": "markdown",
   "metadata": {},
   "source": [
    "### Treating variables"
   ]
  },
  {
   "cell_type": "code",
   "execution_count": 11,
   "metadata": {},
   "outputs": [
    {
     "data": {
      "text/plain": [
       "NU_IDADE                    int64\n",
       "SG_UF_RESIDENCIA            int64\n",
       "TP_SEXO                     int64\n",
       "TP_ESTADO_CIVIL             int64\n",
       "TP_COR_RACA                 int64\n",
       "TP_ST_CONCLUSAO             int64\n",
       "TP_ANO_CONCLUIU             int64\n",
       "TP_ESCOLA                   int64\n",
       "TP_LINGUA                   int64\n",
       "Escolaridade_Pai            int64\n",
       "Escolaridade_Mae            int64\n",
       "Ocupacao_Pai                int64\n",
       "Ocupacao_Mae                int64\n",
       "Pessoas_Residencia          int64\n",
       "Renda_Mensal                int64\n",
       "Empregada_Domestica         int64\n",
       "Banheiros                   int64\n",
       "Quartos                     int64\n",
       "Carro                       int64\n",
       "Motocicleta                 int64\n",
       "Geladeira                   int64\n",
       "Freezer                     int64\n",
       "Lava_Roupa                  int64\n",
       "Seca_Roupa                  int64\n",
       "Microondas                  int64\n",
       "Lava_Louca                  int64\n",
       "Aspirador                   int64\n",
       "Televisao                   int64\n",
       "DVD                         int64\n",
       "TV_Assinatura               int64\n",
       "Celular                     int64\n",
       "Telefone_Fixo               int64\n",
       "Computador                  int64\n",
       "Internet                    int64\n",
       "DESEMPENHO_BAIXO            int64\n",
       "Renda_per_capta           float64\n",
       "Regiao                      int64\n",
       "Pessoas_por_quarto        float64\n",
       "Pessoas_por_computador    float64\n",
       "Pessoas_por_celular       float64\n",
       "dtype: object"
      ]
     },
     "execution_count": 11,
     "metadata": {},
     "output_type": "execute_result"
    }
   ],
   "source": [
    "data.dtypes"
   ]
  },
  {
   "cell_type": "code",
   "execution_count": 8,
   "metadata": {},
   "outputs": [
    {
     "data": {
      "text/plain": [
       "NU_IDADE                    int64\n",
       "SG_UF_RESIDENCIA            int64\n",
       "TP_SEXO                     int64\n",
       "TP_ESTADO_CIVIL             int64\n",
       "TP_COR_RACA                 int64\n",
       "TP_ST_CONCLUSAO             int64\n",
       "TP_ANO_CONCLUIU             int64\n",
       "TP_ESCOLA                   int64\n",
       "TP_LINGUA                   int64\n",
       "Escolaridade_Pai            int64\n",
       "Escolaridade_Mae            int64\n",
       "Ocupacao_Pai                int64\n",
       "Ocupacao_Mae                int64\n",
       "Pessoas_Residencia          int64\n",
       "Renda_Mensal                int64\n",
       "Empregada_Domestica         int64\n",
       "Banheiros                   int64\n",
       "Quartos                     int64\n",
       "Carro                       int64\n",
       "Motocicleta                 int64\n",
       "Geladeira                   int64\n",
       "Freezer                     int64\n",
       "Lava_Roupa                  int64\n",
       "Seca_Roupa                  int64\n",
       "Microondas                  int64\n",
       "Lava_Louca                  int64\n",
       "Aspirador                   int64\n",
       "Televisao                   int64\n",
       "DVD                         int64\n",
       "TV_Assinatura               int64\n",
       "Celular                     int64\n",
       "Telefone_Fixo               int64\n",
       "Computador                  int64\n",
       "Internet                    int64\n",
       "DESEMPENHO_BAIXO            int64\n",
       "Renda_per_capta           float64\n",
       "Regiao                      int64\n",
       "Pessoas_por_quarto        float64\n",
       "Pessoas_por_computador    float64\n",
       "Pessoas_por_celular       float64\n",
       "dtype: object"
      ]
     },
     "execution_count": 8,
     "metadata": {},
     "output_type": "execute_result"
    }
   ],
   "source": [
    "# Converting category columns to integers\n",
    "for col in data.columns:\n",
    "    if col != \"Renda_per_capta\" and col != \"Pessoas_por_quarto\" and col != \"Pessoas_por_computador\" and col != \"Pessoas_por_celular\":\n",
    "        data[col] = pd.factorize(data[col], sort = True)[0]\n",
    "data.dtypes"
   ]
  },
  {
   "cell_type": "code",
   "execution_count": 9,
   "metadata": {},
   "outputs": [],
   "source": [
    "def convert(x):\n",
    "    if x == 7: return -1\n",
    "    else: return x\n",
    "\n",
    "for col in [\"Escolaridade_Pai\", \"Escolaridade_Mae\"]:\n",
    "    data[col] = data[col].apply(convert, 1)\n",
    "    data[col] = pd.factorize(data[col], sort = True)[0]\n",
    "    \n",
    "def convert(x):\n",
    "    if x == 5: return -1\n",
    "    else: return x\n",
    "\n",
    "for col in [\"Ocupacao_Pai\", \"Ocupacao_Mae\"]:\n",
    "    data[col] = data[col].apply(convert, 1)\n",
    "    data[col] = pd.factorize(data[col], sort = True)[0]"
   ]
  },
  {
   "cell_type": "markdown",
   "metadata": {},
   "source": [
    "### Saving data"
   ]
  },
  {
   "cell_type": "code",
   "execution_count": 10,
   "metadata": {},
   "outputs": [],
   "source": [
    "data.to_csv(\"../dataset/dataset_2.csv\", sep = \";\")"
   ]
  }
 ],
 "metadata": {
  "kernelspec": {
   "display_name": "Python 3",
   "language": "python",
   "name": "python3"
  },
  "language_info": {
   "codemirror_mode": {
    "name": "ipython",
    "version": 3
   },
   "file_extension": ".py",
   "mimetype": "text/x-python",
   "name": "python",
   "nbconvert_exporter": "python",
   "pygments_lexer": "ipython3",
   "version": "3.8.3"
  }
 },
 "nbformat": 4,
 "nbformat_minor": 4
}
