{
 "cells": [
  {
   "cell_type": "code",
   "execution_count": 1,
   "metadata": {},
   "outputs": [],
   "source": [
    "import pandas as pd\n",
    "import numpy as np\n",
    "from scipy import stats\n",
    "from sklearn.ensemble import RandomForestRegressor\n",
    "import seaborn as sns\n",
    "import matplotlib.pyplot as plt\n",
    "import warnings\n",
    "warnings.filterwarnings('ignore')"
   ]
  },
  {
   "cell_type": "code",
   "execution_count": 2,
   "metadata": {},
   "outputs": [
    {
     "data": {
      "text/html": [
       "<div>\n",
       "<style scoped>\n",
       "    .dataframe tbody tr th:only-of-type {\n",
       "        vertical-align: middle;\n",
       "    }\n",
       "\n",
       "    .dataframe tbody tr th {\n",
       "        vertical-align: top;\n",
       "    }\n",
       "\n",
       "    .dataframe thead th {\n",
       "        text-align: right;\n",
       "    }\n",
       "</style>\n",
       "<table border=\"1\" class=\"dataframe\">\n",
       "  <thead>\n",
       "    <tr style=\"text-align: right;\">\n",
       "      <th></th>\n",
       "      <th>NU_IDADE</th>\n",
       "      <th>TP_ESTADO_CIVIL</th>\n",
       "      <th>TP_COR_RACA</th>\n",
       "      <th>TP_ST_CONCLUSAO</th>\n",
       "      <th>TP_ANO_CONCLUIU</th>\n",
       "      <th>TP_ESCOLA</th>\n",
       "      <th>TP_LINGUA</th>\n",
       "      <th>Q005</th>\n",
       "      <th>NIVEL_MT</th>\n",
       "    </tr>\n",
       "  </thead>\n",
       "  <tbody>\n",
       "    <tr>\n",
       "      <th>count</th>\n",
       "      <td>3.168898e+06</td>\n",
       "      <td>3.168898e+06</td>\n",
       "      <td>3.168898e+06</td>\n",
       "      <td>3.168898e+06</td>\n",
       "      <td>3.168898e+06</td>\n",
       "      <td>3.168898e+06</td>\n",
       "      <td>3.168898e+06</td>\n",
       "      <td>3.168898e+06</td>\n",
       "      <td>3.168898e+06</td>\n",
       "    </tr>\n",
       "    <tr>\n",
       "      <th>mean</th>\n",
       "      <td>2.197094e+01</td>\n",
       "      <td>1.068572e+00</td>\n",
       "      <td>2.139669e+00</td>\n",
       "      <td>1.389569e+00</td>\n",
       "      <td>2.869310e+00</td>\n",
       "      <td>1.449150e+00</td>\n",
       "      <td>5.271628e-01</td>\n",
       "      <td>3.894223e+00</td>\n",
       "      <td>2.500374e-01</td>\n",
       "    </tr>\n",
       "    <tr>\n",
       "      <th>std</th>\n",
       "      <td>7.183446e+00</td>\n",
       "      <td>4.164400e-01</td>\n",
       "      <td>1.012008e+00</td>\n",
       "      <td>4.992919e-01</td>\n",
       "      <td>3.971679e+00</td>\n",
       "      <td>6.148688e-01</td>\n",
       "      <td>4.992617e-01</td>\n",
       "      <td>1.474267e+00</td>\n",
       "      <td>4.330344e-01</td>\n",
       "    </tr>\n",
       "    <tr>\n",
       "      <th>min</th>\n",
       "      <td>1.600000e+01</td>\n",
       "      <td>0.000000e+00</td>\n",
       "      <td>0.000000e+00</td>\n",
       "      <td>1.000000e+00</td>\n",
       "      <td>0.000000e+00</td>\n",
       "      <td>1.000000e+00</td>\n",
       "      <td>0.000000e+00</td>\n",
       "      <td>1.000000e+00</td>\n",
       "      <td>0.000000e+00</td>\n",
       "    </tr>\n",
       "    <tr>\n",
       "      <th>25%</th>\n",
       "      <td>1.800000e+01</td>\n",
       "      <td>1.000000e+00</td>\n",
       "      <td>1.000000e+00</td>\n",
       "      <td>1.000000e+00</td>\n",
       "      <td>0.000000e+00</td>\n",
       "      <td>1.000000e+00</td>\n",
       "      <td>0.000000e+00</td>\n",
       "      <td>3.000000e+00</td>\n",
       "      <td>0.000000e+00</td>\n",
       "    </tr>\n",
       "    <tr>\n",
       "      <th>50%</th>\n",
       "      <td>1.900000e+01</td>\n",
       "      <td>1.000000e+00</td>\n",
       "      <td>2.000000e+00</td>\n",
       "      <td>1.000000e+00</td>\n",
       "      <td>1.000000e+00</td>\n",
       "      <td>1.000000e+00</td>\n",
       "      <td>1.000000e+00</td>\n",
       "      <td>4.000000e+00</td>\n",
       "      <td>0.000000e+00</td>\n",
       "    </tr>\n",
       "    <tr>\n",
       "      <th>75%</th>\n",
       "      <td>2.300000e+01</td>\n",
       "      <td>1.000000e+00</td>\n",
       "      <td>3.000000e+00</td>\n",
       "      <td>2.000000e+00</td>\n",
       "      <td>4.000000e+00</td>\n",
       "      <td>2.000000e+00</td>\n",
       "      <td>1.000000e+00</td>\n",
       "      <td>5.000000e+00</td>\n",
       "      <td>1.000000e+00</td>\n",
       "    </tr>\n",
       "    <tr>\n",
       "      <th>max</th>\n",
       "      <td>9.200000e+01</td>\n",
       "      <td>4.000000e+00</td>\n",
       "      <td>5.000000e+00</td>\n",
       "      <td>4.000000e+00</td>\n",
       "      <td>1.300000e+01</td>\n",
       "      <td>3.000000e+00</td>\n",
       "      <td>1.000000e+00</td>\n",
       "      <td>2.000000e+01</td>\n",
       "      <td>1.000000e+00</td>\n",
       "    </tr>\n",
       "  </tbody>\n",
       "</table>\n",
       "</div>"
      ],
      "text/plain": [
       "           NU_IDADE  TP_ESTADO_CIVIL   TP_COR_RACA  TP_ST_CONCLUSAO  \\\n",
       "count  3.168898e+06     3.168898e+06  3.168898e+06     3.168898e+06   \n",
       "mean   2.197094e+01     1.068572e+00  2.139669e+00     1.389569e+00   \n",
       "std    7.183446e+00     4.164400e-01  1.012008e+00     4.992919e-01   \n",
       "min    1.600000e+01     0.000000e+00  0.000000e+00     1.000000e+00   \n",
       "25%    1.800000e+01     1.000000e+00  1.000000e+00     1.000000e+00   \n",
       "50%    1.900000e+01     1.000000e+00  2.000000e+00     1.000000e+00   \n",
       "75%    2.300000e+01     1.000000e+00  3.000000e+00     2.000000e+00   \n",
       "max    9.200000e+01     4.000000e+00  5.000000e+00     4.000000e+00   \n",
       "\n",
       "       TP_ANO_CONCLUIU     TP_ESCOLA     TP_LINGUA          Q005      NIVEL_MT  \n",
       "count     3.168898e+06  3.168898e+06  3.168898e+06  3.168898e+06  3.168898e+06  \n",
       "mean      2.869310e+00  1.449150e+00  5.271628e-01  3.894223e+00  2.500374e-01  \n",
       "std       3.971679e+00  6.148688e-01  4.992617e-01  1.474267e+00  4.330344e-01  \n",
       "min       0.000000e+00  1.000000e+00  0.000000e+00  1.000000e+00  0.000000e+00  \n",
       "25%       0.000000e+00  1.000000e+00  0.000000e+00  3.000000e+00  0.000000e+00  \n",
       "50%       1.000000e+00  1.000000e+00  1.000000e+00  4.000000e+00  0.000000e+00  \n",
       "75%       4.000000e+00  2.000000e+00  1.000000e+00  5.000000e+00  1.000000e+00  \n",
       "max       1.300000e+01  3.000000e+00  1.000000e+00  2.000000e+01  1.000000e+00  "
      ]
     },
     "execution_count": 2,
     "metadata": {},
     "output_type": "execute_result"
    }
   ],
   "source": [
    "data = pd.read_csv(\"../dataset/dataset_1.csv\", sep = \";\").drop(\"Unnamed: 0\", 1)\n",
    "train = pd.read_csv(\"../dataset/train_1.csv\", sep = \";\").drop(\"Unnamed: 0\", 1)\n",
    "test = pd.read_csv(\"../dataset/test_1.csv\", sep = \";\").drop(\"Unnamed: 0\", 1)\n",
    "data.describe()"
   ]
  },
  {
   "cell_type": "markdown",
   "metadata": {},
   "source": [
    "### Creating variables"
   ]
  },
  {
   "cell_type": "markdown",
   "metadata": {},
   "source": [
    "#### House Income per capita"
   ]
  },
  {
   "cell_type": "code",
   "execution_count": 3,
   "metadata": {},
   "outputs": [
    {
     "data": {
      "image/png": "[encoded data removed]",
      "text/plain": [
       "<Figure size 1080x576 with 1 Axes>"
      ]
     },
     "metadata": {
      "needs_background": "light"
     },
     "output_type": "display_data"
    }
   ],
   "source": [
    "def mapea_per_capta(data):\n",
    "    renda = data[\"Q006\"]\n",
    "    capta = data[\"Q005\"]\n",
    "    if renda == \"A\":\n",
    "        return 0\n",
    "    if renda == \"B\":\n",
    "        return 998/capta    \n",
    "    if renda == \"C\":\n",
    "        return 1497/capta\n",
    "    if renda == \"D\":\n",
    "        return 1996/capta  \n",
    "    if renda == \"E\":\n",
    "        return 2495/capta  \n",
    "    if renda == \"F\":\n",
    "        return 2994/capta   \n",
    "    if renda == \"G\":\n",
    "        return 3992/capta\n",
    "    if renda == \"H\":\n",
    "        return 4990/capta \n",
    "    if renda == \"I\":\n",
    "        return 5988/capta\n",
    "    if renda == \"J\":\n",
    "        return 6986/capta  \n",
    "    if renda == \"K\":\n",
    "        return 7984/capta  \n",
    "    if renda == \"L\":\n",
    "        return 8982/capta  \n",
    "    if renda == \"M\":\n",
    "        return 9980/capta\n",
    "    if renda == \"N\":\n",
    "        return 11976/capta \n",
    "    if renda == \"O\":\n",
    "        return 14970/capta\n",
    "    if renda == \"P\":\n",
    "        return 19960/capta\n",
    "    if renda == \"Q\":\n",
    "        return 30000/capta \n",
    "    \n",
    "data[\"Renda_per_capta\"] = data.apply(mapea_per_capta, 1)\n",
    "train[\"Renda_per_capta\"] = train.apply(mapea_per_capta, 1)\n",
    "test[\"Renda_per_capta\"] = test.apply(mapea_per_capta, 1)\n",
    "\n",
    "plt.figure(figsize=(15, 8))\n",
    "sns.boxplot(x = train[\"NIVEL_MT\"], y = train[\"Renda_per_capta\"])\n",
    "plt.xlabel(\"\")\n",
    "plt.ylabel(\"\")\n",
    "plt.savefig(\"../pictures/Distribuicao_niveis_por_renda_per_capta.png\")"
   ]
  },
  {
   "cell_type": "markdown",
   "metadata": {},
   "source": [
    "#### Region"
   ]
  },
  {
   "cell_type": "code",
   "execution_count": 4,
   "metadata": {
    "scrolled": false
   },
   "outputs": [],
   "source": [
    "def mapea_estados(estado):\n",
    "    if estado in [\"AC\", \"AP\", \"AM\", \"PA\", \"RO\", \"RR\", \"TO\"]:\n",
    "        return \"Norte\"\n",
    "    if estado in [\"AL\", \"BA\", \"CE\", \"MA\", \"PB\", \"PE\", \"PI\", \"RN\", \"SE\"]:\n",
    "        return \"Nordeste\"\n",
    "    if estado in [\"GO\", \"MT\", \"MS\", \"DF\"]:\n",
    "        return \"Centro_Oeste\"\n",
    "    if estado in [\"ES\", \"SP\", \"RJ\", \"MG\"]:\n",
    "        return \"Sudeste\"\n",
    "    if estado in [\"PR\", \"RS\", \"SC\"]:\n",
    "        return \"Sul\"\n",
    "    \n",
    "data[\"Regiao\"] = data[\"SG_UF_RESIDENCIA\"].apply(mapea_estados, 1)\n",
    "train[\"Regiao\"] = train[\"SG_UF_RESIDENCIA\"].apply(mapea_estados, 1)\n",
    "test[\"Regiao\"] = test[\"SG_UF_RESIDENCIA\"].apply(mapea_estados, 1)"
   ]
  },
  {
   "cell_type": "markdown",
   "metadata": {},
   "source": [
    "#### People per room"
   ]
  },
  {
   "cell_type": "code",
   "execution_count": 5,
   "metadata": {},
   "outputs": [],
   "source": [
    "def mapea_pessoas_por_quarto(data):\n",
    "    if data[\"Q009\"] == \"A\":\n",
    "        return 0\n",
    "    if data[\"Q009\"] == \"B\":\n",
    "        return data[\"Q005\"]\n",
    "    if data[\"Q009\"] == \"C\":\n",
    "        return data[\"Q005\"]/2\n",
    "    if data[\"Q009\"] == \"D\":\n",
    "        return data[\"Q005\"]/3\n",
    "    if data[\"Q009\"] == \"E\":\n",
    "        return data[\"Q005\"]/4\n",
    "    \n",
    "data[\"Pessoas_por_quarto\"] = data.apply(mapea_pessoas_por_quarto, 1)\n",
    "train[\"Pessoas_por_quarto\"] = train.apply(mapea_pessoas_por_quarto, 1)\n",
    "test[\"Pessoas_por_quarto\"] = test.apply(mapea_pessoas_por_quarto, 1)"
   ]
  },
  {
   "cell_type": "markdown",
   "metadata": {},
   "source": [
    "### Treating variables"
   ]
  },
  {
   "cell_type": "code",
   "execution_count": 6,
   "metadata": {},
   "outputs": [
    {
     "data": {
      "text/plain": [
       "NU_IDADE                int64\n",
       "SG_UF_RESIDENCIA       object\n",
       "TP_SEXO                object\n",
       "TP_ESTADO_CIVIL         int64\n",
       "TP_COR_RACA             int64\n",
       "TP_ST_CONCLUSAO         int64\n",
       "TP_ANO_CONCLUIU         int64\n",
       "TP_ESCOLA               int64\n",
       "TP_LINGUA               int64\n",
       "Q001                   object\n",
       "Q002                   object\n",
       "Q003                   object\n",
       "Q004                   object\n",
       "Q005                    int64\n",
       "Q006                   object\n",
       "Q007                   object\n",
       "Q008                   object\n",
       "Q009                   object\n",
       "Q010                   object\n",
       "Q011                   object\n",
       "Q012                   object\n",
       "Q013                   object\n",
       "Q014                   object\n",
       "Q015                   object\n",
       "Q016                   object\n",
       "Q017                   object\n",
       "Q018                   object\n",
       "Q019                   object\n",
       "Q020                   object\n",
       "Q021                   object\n",
       "Q022                   object\n",
       "Q023                   object\n",
       "Q024                   object\n",
       "Q025                   object\n",
       "NIVEL_MT                int64\n",
       "Renda_per_capta       float64\n",
       "Regiao                 object\n",
       "Pessoas_por_quarto    float64\n",
       "dtype: object"
      ]
     },
     "execution_count": 6,
     "metadata": {},
     "output_type": "execute_result"
    }
   ],
   "source": [
    "data.dtypes"
   ]
  },
  {
   "cell_type": "code",
   "execution_count": 7,
   "metadata": {},
   "outputs": [
    {
     "data": {
      "text/plain": [
       "NU_IDADE                int64\n",
       "SG_UF_RESIDENCIA        int64\n",
       "TP_SEXO                 int64\n",
       "TP_ESTADO_CIVIL         int64\n",
       "TP_COR_RACA             int64\n",
       "TP_ST_CONCLUSAO         int64\n",
       "TP_ANO_CONCLUIU         int64\n",
       "TP_ESCOLA               int64\n",
       "TP_LINGUA               int64\n",
       "Q001                    int64\n",
       "Q002                    int64\n",
       "Q003                    int64\n",
       "Q004                    int64\n",
       "Q005                    int64\n",
       "Q006                    int64\n",
       "Q007                    int64\n",
       "Q008                    int64\n",
       "Q009                    int64\n",
       "Q010                    int64\n",
       "Q011                    int64\n",
       "Q012                    int64\n",
       "Q013                    int64\n",
       "Q014                    int64\n",
       "Q015                    int64\n",
       "Q016                    int64\n",
       "Q017                    int64\n",
       "Q018                    int64\n",
       "Q019                    int64\n",
       "Q020                    int64\n",
       "Q021                    int64\n",
       "Q022                    int64\n",
       "Q023                    int64\n",
       "Q024                    int64\n",
       "Q025                    int64\n",
       "NIVEL_MT                int64\n",
       "Renda_per_capta       float64\n",
       "Regiao                  int64\n",
       "Pessoas_por_quarto    float64\n",
       "dtype: object"
      ]
     },
     "execution_count": 7,
     "metadata": {},
     "output_type": "execute_result"
    }
   ],
   "source": [
    "# Converting category columns to integers\n",
    "for col in data.columns:\n",
    "    if col != \"Renda_per_capta\" and col != \"Pessoas_por_quarto\":\n",
    "        data[col] = pd.factorize(data[col], sort = True)[0]\n",
    "        train[col] = pd.factorize(train[col], sort = True)[0]\n",
    "        test[col] = pd.factorize(test[col], sort = True)[0]\n",
    "data.dtypes"
   ]
  },
  {
   "cell_type": "code",
   "execution_count": 8,
   "metadata": {},
   "outputs": [],
   "source": [
    "def convert(x):\n",
    "    if x == 7: return -1\n",
    "    else: return x\n",
    "\n",
    "for col in [\"Q001\", \"Q002\"]:\n",
    "    data[col] = data[col].apply(convert, 1)\n",
    "    data[col] = pd.factorize(data[col], sort = True)[0]\n",
    "    train[col] = train[col].apply(convert, 1)\n",
    "    train[col] = pd.factorize(train[col], sort = True)[0]\n",
    "    test[col] = test[col].apply(convert, 1)\n",
    "    test[col] = pd.factorize(test[col], sort = True)[0]\n",
    "    \n",
    "def convert(x):\n",
    "    if x == 5: return -1\n",
    "    else: return x\n",
    "\n",
    "for col in [\"Q003\", \"Q004\"]:\n",
    "    data[col] = data[col].apply(convert, 1)\n",
    "    data[col] = pd.factorize(data[col], sort = True)[0]\n",
    "    train[col] = train[col].apply(convert, 1)\n",
    "    train[col] = pd.factorize(train[col], sort = True)[0]\n",
    "    test[col] = test[col].apply(convert, 1)\n",
    "    test[col] = pd.factorize(test[col], sort = True)[0]"
   ]
  },
  {
   "cell_type": "code",
   "execution_count": 9,
   "metadata": {},
   "outputs": [],
   "source": [
    "# Stardarizing numeric variables\n",
    "\n",
    "mean = data[\"Renda_per_capta\"].mean()\n",
    "std = data[\"Renda_per_capta\"].std()\n",
    "data[\"Renda_per_capta\"] = (data[\"Renda_per_capta\"]-mean)/std\n",
    "train[\"Renda_per_capta\"] = (train[\"Renda_per_capta\"]-mean)/std\n",
    "test[\"Renda_per_capta\"] = (test[\"Renda_per_capta\"]-mean)/std\n",
    "\n",
    "mean = data[\"Pessoas_por_quarto\"].mean()\n",
    "std = data[\"Pessoas_por_quarto\"].std()\n",
    "data[\"Pessoas_por_quarto\"] = (data[\"Pessoas_por_quarto\"]-mean)/std\n",
    "train[\"Pessoas_por_quarto\"] = (train[\"Pessoas_por_quarto\"]-mean)/std\n",
    "test[\"Pessoas_por_quarto\"] = (test[\"Pessoas_por_quarto\"]-mean)/std"
   ]
  },
  {
   "cell_type": "markdown",
   "metadata": {},
   "source": [
    "### Saving data"
   ]
  },
  {
   "cell_type": "code",
   "execution_count": 10,
   "metadata": {},
   "outputs": [],
   "source": [
    "data.to_csv(\"../dataset/dataset_2.csv\", sep = \";\")\n",
    "train.to_csv(\"../dataset/train_2.csv\", sep = \";\")\n",
    "test.to_csv(\"../dataset/test_2.csv\", sep = \";\")"
   ]
  }
 ],
 "metadata": {
  "kernelspec": {
   "display_name": "Python 3",
   "language": "python",
   "name": "python3"
  },
  "language_info": {
   "codemirror_mode": {
    "name": "ipython",
    "version": 3
   },
   "file_extension": ".py",
   "mimetype": "text/x-python",
   "name": "python",
   "nbconvert_exporter": "python",
   "pygments_lexer": "ipython3",
   "version": "3.8.3"
  }
 },
 "nbformat": 4,
 "nbformat_minor": 4
}
